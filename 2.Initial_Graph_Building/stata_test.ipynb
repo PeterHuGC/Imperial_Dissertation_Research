{
 "cells": [
  {
   "cell_type": "code",
   "execution_count": 9,
   "metadata": {},
   "outputs": [],
   "source": [
    "# import stata_setup"
   ]
  },
  {
   "cell_type": "code",
   "execution_count": 12,
   "metadata": {},
   "outputs": [
    {
     "ename": "TypeError",
     "evalue": "config() missing 1 required positional argument: 'edition'",
     "output_type": "error",
     "traceback": [
      "\u001b[0;31m---------------------------------------------------------------------------\u001b[0m",
      "\u001b[0;31mTypeError\u001b[0m                                 Traceback (most recent call last)",
      "Cell \u001b[0;32mIn[12], line 1\u001b[0m\n\u001b[0;32m----> 1\u001b[0m \u001b[43mstata_setup\u001b[49m\u001b[38;5;241;43m.\u001b[39;49m\u001b[43mconfig\u001b[49m\u001b[43m(\u001b[49m\u001b[38;5;124;43m\"\u001b[39;49m\u001b[38;5;124;43mse\u001b[39;49m\u001b[38;5;124;43m\"\u001b[39;49m\u001b[43m)\u001b[49m\n",
      "\u001b[0;31mTypeError\u001b[0m: config() missing 1 required positional argument: 'edition'"
     ]
    }
   ],
   "source": [
    "# stata_setup(\"/mnt/c/Program Files/Stata18/\", \"se\") # windows setup"
   ]
  },
  {
   "cell_type": "code",
   "execution_count": 13,
   "metadata": {},
   "outputs": [],
   "source": [
    "# linux setup"
   ]
  },
  {
   "cell_type": "code",
   "execution_count": 1,
   "metadata": {},
   "outputs": [
    {
     "name": "stdout",
     "output_type": "stream",
     "text": [
      "\n",
      "  ___  ____  ____  ____  ____ ®\n",
      " /__    /   ____/   /   ____/      18.0\n",
      "___/   /   /___/   /   /___/       SE—Standard Edition\n",
      "\n",
      " Statistics and Data Science       Copyright 1985-2023 StataCorp LLC\n",
      "                                   StataCorp\n",
      "                                   4905 Lakeway Drive\n",
      "                                   College Station, Texas 77845 USA\n",
      "                                   800-STATA-PC        https://www.stata.com\n",
      "                                   979-696-4600        stata@stata.com\n",
      "\n",
      "Stata license: Unlimited-user network, expiring 30 Apr 2025\n",
      "Serial number: 401809303166\n",
      "  Licensed to: University of Warwick\n",
      "               Coventry\n",
      "\n",
      "Notes:\n",
      "      1. Unicode is supported; see help unicode_advice.\n",
      "      2. Maximum number of variables is set to 5,000 but can be increased;\n",
      "          see help set_maxvar.\n"
     ]
    }
   ],
   "source": [
    "import stata_setup\n",
    "stata_setup.config(\"/usr/local/stata18\", \"se\") # linux setup, get linux command and it is running fine - so just use that and it works!!\n",
    "\n",
    "# add local setup and is fine!!"
   ]
  },
  {
   "cell_type": "code",
   "execution_count": 8,
   "metadata": {},
   "outputs": [
    {
     "name": "stdout",
     "output_type": "stream",
     "text": [
      "(1978 automobile data)\n"
     ]
    }
   ],
   "source": [
    "from pystata import stata\n",
    "\n",
    "stata.run('sysuse auto, clear')\n",
    "\n",
    "# import pystata details here as needed - and it works.\n",
    "\n",
    "# https://www.stata.com/python/pystata17/notebook/Quick%20Start2.html"
   ]
  },
  {
   "cell_type": "code",
   "execution_count": 9,
   "metadata": {},
   "outputs": [
    {
     "name": "stdout",
     "output_type": "stream",
     "text": [
      "\n",
      ". \n",
      ". summarize\n",
      "\n",
      "    Variable |        Obs        Mean    Std. dev.       Min        Max\n",
      "-------------+---------------------------------------------------------\n",
      "        make |          0\n",
      "       price |         74    6165.257    2949.496       3291      15906\n",
      "         mpg |         74     21.2973    5.785503         12         41\n",
      "       rep78 |         69    3.405797    .9899323          1          5\n",
      "    headroom |         74    2.993243    .8459948        1.5          5\n",
      "-------------+---------------------------------------------------------\n",
      "       trunk |         74    13.75676    4.277404          5         23\n",
      "      weight |         74    3019.459    777.1936       1760       4840\n",
      "      length |         74    187.9324    22.26634        142        233\n",
      "        turn |         74    39.64865    4.399354         31         51\n",
      "displacement |         74    197.2973    91.83722         79        425\n",
      "-------------+---------------------------------------------------------\n",
      "  gear_ratio |         74    3.014865    .4562871       2.19       3.89\n",
      "     foreign |         74    .2972973    .4601885          0          1\n",
      "\n",
      ". reg mpg price i.foreign\n",
      "\n",
      "      Source |       SS           df       MS      Number of obs   =        74\n",
      "-------------+----------------------------------   F(2, 71)        =     23.01\n",
      "       Model |  960.866305         2  480.433152   Prob > F        =    0.0000\n",
      "    Residual |  1482.59315        71  20.8815937   R-squared       =    0.3932\n",
      "-------------+----------------------------------   Adj R-squared   =    0.3761\n",
      "       Total |  2443.45946        73  33.4720474   Root MSE        =    4.5696\n",
      "\n",
      "------------------------------------------------------------------------------\n",
      "         mpg | Coefficient  Std. err.      t    P>|t|     [95% conf. interval]\n",
      "-------------+----------------------------------------------------------------\n",
      "       price |   -.000959   .0001815    -5.28   0.000     -.001321    -.000597\n",
      "             |\n",
      "     foreign |\n",
      "    Foreign  |   5.245271   1.163592     4.51   0.000     2.925135    7.565407\n",
      "       _cons |   25.65058   1.271581    20.17   0.000     23.11512    28.18605\n",
      "------------------------------------------------------------------------------\n",
      "\n",
      ". ereturn list\n",
      "\n",
      "scalars:\n",
      "                  e(N) =  74\n",
      "               e(df_m) =  2\n",
      "               e(df_r) =  71\n",
      "                  e(F) =  23.00749448574634\n",
      "                 e(r2) =  .3932401256962295\n",
      "               e(rmse) =  4.569638248831391\n",
      "                e(mss) =  960.8663049714787\n",
      "                e(rss) =  1482.593154487981\n",
      "               e(r2_a) =  .3761482982510528\n",
      "                 e(ll) =  -215.9083177127538\n",
      "               e(ll_0) =  -234.3943376482347\n",
      "               e(rank) =  3\n",
      "\n",
      "macros:\n",
      "            e(cmdline) : \"regress mpg price i.foreign\"\n",
      "              e(title) : \"Linear regression\"\n",
      "          e(marginsok) : \"XB default\"\n",
      "                e(vce) : \"ols\"\n",
      "             e(depvar) : \"mpg\"\n",
      "                e(cmd) : \"regress\"\n",
      "         e(properties) : \"b V\"\n",
      "            e(predict) : \"regres_p\"\n",
      "              e(model) : \"ols\"\n",
      "          e(estat_cmd) : \"regress_estat\"\n",
      "\n",
      "matrices:\n",
      "                  e(b) :  1 x 4\n",
      "                  e(V) :  4 x 4\n",
      "               e(beta) :  1 x 3\n",
      "\n",
      "functions:\n",
      "             e(sample)   \n",
      "\n",
      ". \n"
     ]
    }
   ],
   "source": [
    "stata.run('''\n",
    "summarize\n",
    "reg mpg price i.foreign\n",
    "ereturn list\n",
    "''')\n",
    "\n"
   ]
  },
  {
   "cell_type": "markdown",
   "metadata": {},
   "source": [
    "Cannot use magic functions, but can run the command that way with the detail."
   ]
  },
  {
   "cell_type": "code",
   "execution_count": 2,
   "metadata": {},
   "outputs": [],
   "source": [
    "%timeit"
   ]
  },
  {
   "cell_type": "code",
   "execution_count": 3,
   "metadata": {},
   "outputs": [
    {
     "ename": "SyntaxError",
     "evalue": "Stata command required (<string>)",
     "output_type": "error",
     "traceback": [
      "Traceback \u001b[0;36m(most recent call last)\u001b[0m:\n",
      "\u001b[0m  File \u001b[1;32m~/miniconda3/envs/bayesian/lib/python3.10/site-packages/IPython/core/interactiveshell.py:3553\u001b[0m in \u001b[1;35mrun_code\u001b[0m\n    exec(code_obj, self.user_global_ns, self.user_ns)\u001b[0m\n",
      "\u001b[0m  Cell \u001b[1;32mIn[3], line 1\u001b[0m\n    get_ipython().run_line_magic('stata', '')\u001b[0m\n",
      "\u001b[0m  File \u001b[1;32m~/miniconda3/envs/bayesian/lib/python3.10/site-packages/IPython/core/interactiveshell.py:2456\u001b[0m in \u001b[1;35mrun_line_magic\u001b[0m\n    result = fn(*args, **kwargs)\u001b[0m\n",
      "\u001b[0;36m  File \u001b[0;32m/usr/local/stata18/utilities/pystata/ipython/stpymagic.py:180\u001b[0;36m in \u001b[0;35mstata\u001b[0;36m\n\u001b[0;31m    raise SyntaxError(\"Stata command required\")\u001b[0;36m\n",
      "\u001b[0;36m  File \u001b[0;32m<string>\u001b[0;36m\u001b[0m\n\u001b[0;31mSyntaxError\u001b[0m\u001b[0;31m:\u001b[0m Stata command required\n"
     ]
    }
   ],
   "source": [
    "%stata"
   ]
  },
  {
   "cell_type": "code",
   "execution_count": 4,
   "metadata": {},
   "outputs": [
    {
     "ename": "SyntaxError",
     "evalue": "invalid syntax (873013134.py, line 4)",
     "output_type": "error",
     "traceback": [
      "\u001b[0;36m  Cell \u001b[0;32mIn[4], line 4\u001b[0;36m\u001b[0m\n\u001b[0;31m    use https://www.stata-press.com/data/r18/lutkepohl2\u001b[0m\n\u001b[0m        ^\u001b[0m\n\u001b[0;31mSyntaxError\u001b[0m\u001b[0;31m:\u001b[0m invalid syntax\n"
     ]
    }
   ],
   "source": [
    "# run relevant commands below and it works!!\n",
    "\n",
    "%%stata\n",
    "use https://www.stata-press.com/data/r18/lutkepohl2\n",
    "describe\n",
    "tsset"
   ]
  },
  {
   "cell_type": "code",
   "execution_count": 5,
   "metadata": {},
   "outputs": [
    {
     "ename": "SystemError",
     "evalue": "variable dln_inv not found\nr(111);\n",
     "output_type": "error",
     "traceback": [
      "\u001b[0;31m---------------------------------------------------------------------------\u001b[0m",
      "\u001b[0;31mSystemError\u001b[0m                               Traceback (most recent call last)",
      "Cell \u001b[0;32mIn[5], line 1\u001b[0m\n\u001b[0;32m----> 1\u001b[0m \u001b[43mget_ipython\u001b[49m\u001b[43m(\u001b[49m\u001b[43m)\u001b[49m\u001b[38;5;241;43m.\u001b[39;49m\u001b[43mrun_cell_magic\u001b[49m\u001b[43m(\u001b[49m\u001b[38;5;124;43m'\u001b[39;49m\u001b[38;5;124;43mstata\u001b[39;49m\u001b[38;5;124;43m'\u001b[39;49m\u001b[43m,\u001b[49m\u001b[43m \u001b[49m\u001b[38;5;124;43m'\u001b[39;49m\u001b[38;5;124;43m'\u001b[39;49m\u001b[43m,\u001b[49m\u001b[43m \u001b[49m\u001b[38;5;124;43m'\u001b[39;49m\u001b[38;5;124;43mvar dln_inv dln_inc dln_consump if qtr<=tq(1978q4), lags(1/2) dfk\u001b[39;49m\u001b[38;5;130;43;01m\\n\u001b[39;49;00m\u001b[38;5;124;43m'\u001b[39;49m\u001b[43m)\u001b[49m\n",
      "File \u001b[0;32m~/miniconda3/envs/bayesian/lib/python3.10/site-packages/IPython/core/interactiveshell.py:2517\u001b[0m, in \u001b[0;36mInteractiveShell.run_cell_magic\u001b[0;34m(self, magic_name, line, cell)\u001b[0m\n\u001b[1;32m   2515\u001b[0m \u001b[38;5;28;01mwith\u001b[39;00m \u001b[38;5;28mself\u001b[39m\u001b[38;5;241m.\u001b[39mbuiltin_trap:\n\u001b[1;32m   2516\u001b[0m     args \u001b[38;5;241m=\u001b[39m (magic_arg_s, cell)\n\u001b[0;32m-> 2517\u001b[0m     result \u001b[38;5;241m=\u001b[39m \u001b[43mfn\u001b[49m\u001b[43m(\u001b[49m\u001b[38;5;241;43m*\u001b[39;49m\u001b[43margs\u001b[49m\u001b[43m,\u001b[49m\u001b[43m \u001b[49m\u001b[38;5;241;43m*\u001b[39;49m\u001b[38;5;241;43m*\u001b[39;49m\u001b[43mkwargs\u001b[49m\u001b[43m)\u001b[49m\n\u001b[1;32m   2519\u001b[0m \u001b[38;5;66;03m# The code below prevents the output from being displayed\u001b[39;00m\n\u001b[1;32m   2520\u001b[0m \u001b[38;5;66;03m# when using magics with decorator @output_can_be_silenced\u001b[39;00m\n\u001b[1;32m   2521\u001b[0m \u001b[38;5;66;03m# when the last Python token in the expression is a ';'.\u001b[39;00m\n\u001b[1;32m   2522\u001b[0m \u001b[38;5;28;01mif\u001b[39;00m \u001b[38;5;28mgetattr\u001b[39m(fn, magic\u001b[38;5;241m.\u001b[39mMAGIC_OUTPUT_CAN_BE_SILENCED, \u001b[38;5;28;01mFalse\u001b[39;00m):\n",
      "File \u001b[0;32m/usr/local/stata18/utilities/pystata/ipython/stpymagic.py:276\u001b[0m, in \u001b[0;36mPyStataMagic.stata\u001b[0;34m(self, line, cell, local_ns)\u001b[0m\n\u001b[1;32m    274\u001b[0m     _stata\u001b[38;5;241m.\u001b[39mrun(cell, quietly\u001b[38;5;241m=\u001b[39m\u001b[38;5;28;01mTrue\u001b[39;00m, inline\u001b[38;5;241m=\u001b[39m_config\u001b[38;5;241m.\u001b[39mstconfig[\u001b[38;5;124m'\u001b[39m\u001b[38;5;124mgrshow\u001b[39m\u001b[38;5;124m'\u001b[39m])\n\u001b[1;32m    275\u001b[0m \u001b[38;5;28;01melse\u001b[39;00m:\n\u001b[0;32m--> 276\u001b[0m     \u001b[43m_stata\u001b[49m\u001b[38;5;241;43m.\u001b[39;49m\u001b[43mrun\u001b[49m\u001b[43m(\u001b[49m\u001b[43mcell\u001b[49m\u001b[43m,\u001b[49m\u001b[43m \u001b[49m\u001b[43mquietly\u001b[49m\u001b[38;5;241;43m=\u001b[39;49m\u001b[38;5;28;43;01mFalse\u001b[39;49;00m\u001b[43m,\u001b[49m\u001b[43m \u001b[49m\u001b[43minline\u001b[49m\u001b[38;5;241;43m=\u001b[39;49m\u001b[43m_config\u001b[49m\u001b[38;5;241;43m.\u001b[39;49m\u001b[43mstconfig\u001b[49m\u001b[43m[\u001b[49m\u001b[38;5;124;43m'\u001b[39;49m\u001b[38;5;124;43mgrshow\u001b[39;49m\u001b[38;5;124;43m'\u001b[39;49m\u001b[43m]\u001b[49m\u001b[43m)\u001b[49m\n\u001b[1;32m    278\u001b[0m \u001b[38;5;28;01mif\u001b[39;00m \u001b[38;5;124m'\u001b[39m\u001b[38;5;124m-gw\u001b[39m\u001b[38;5;124m'\u001b[39m \u001b[38;5;129;01min\u001b[39;00m args \u001b[38;5;129;01mor\u001b[39;00m \u001b[38;5;124m'\u001b[39m\u001b[38;5;124m-gh\u001b[39m\u001b[38;5;124m'\u001b[39m \u001b[38;5;129;01min\u001b[39;00m args:\n\u001b[1;32m    279\u001b[0m     _config\u001b[38;5;241m.\u001b[39mset_graph_size(gwidth, gheight)\n",
      "File \u001b[0;32m/usr/local/stata18/utilities/pystata/stata.py:313\u001b[0m, in \u001b[0;36mrun\u001b[0;34m(cmd, quietly, echo, inline)\u001b[0m\n\u001b[1;32m    311\u001b[0m \u001b[38;5;124m            _stata_wrk1(\u001b[39m\u001b[38;5;124m\"\u001b[39m\u001b[38;5;124mqui \u001b[39m\u001b[38;5;124m\"\u001b[39m\u001b[38;5;124m + cmds[0], echo)\u001b[39m\n\u001b[1;32m    312\u001b[0m \u001b[38;5;124m        else:\u001b[39m\n\u001b[0;32m--> 313\u001b[0m \u001b[38;5;124m            _stata_wrk1(cmds[0], echo)\u001b[39m\n\u001b[1;32m    314\u001b[0m \u001b[38;5;124melse:\u001b[39m\n\u001b[1;32m    315\u001b[0m \u001b[38;5;124m    if inline:\u001b[39m\n",
      "File \u001b[0;32m/usr/local/stata18/utilities/pystata/stata.py:71\u001b[0m, in \u001b[0;36m_stata_wrk1\u001b[0;34m(cmd, echo)\u001b[0m\n\u001b[1;32m     69\u001b[0m         err \u001b[38;5;241m=\u001b[39m callback[\u001b[38;5;241m0\u001b[39m]\n\u001b[1;32m     70\u001b[0m         callback\u001b[38;5;241m.\u001b[39mclear()\n\u001b[0;32m---> 71\u001b[0m         \u001b[38;5;28;01mraise\u001b[39;00m \u001b[38;5;167;01mSystemError\u001b[39;00m(err)\n\u001b[1;32m     72\u001b[0m \u001b[38;5;28;01mexcept\u001b[39;00m \u001b[38;5;167;01mKeyboardInterrupt\u001b[39;00m:\n\u001b[1;32m     73\u001b[0m     outputter\u001b[38;5;241m.\u001b[39mdone()\n",
      "\u001b[0;31mSystemError\u001b[0m: variable dln_inv not found\nr(111);\n"
     ]
    }
   ],
   "source": [
    "%%stata\n",
    "var dln_inv dln_inc dln_consump if qtr<=tq(1978q4), lags(1/2) dfk"
   ]
  },
  {
   "cell_type": "code",
   "execution_count": null,
   "metadata": {},
   "outputs": [],
   "source": []
  }
 ],
 "metadata": {
  "kernelspec": {
   "display_name": "bayesian",
   "language": "python",
   "name": "python3"
  },
  "language_info": {
   "codemirror_mode": {
    "name": "ipython",
    "version": 3
   },
   "file_extension": ".py",
   "mimetype": "text/x-python",
   "name": "python",
   "nbconvert_exporter": "python",
   "pygments_lexer": "ipython3",
   "version": "3.10.14"
  }
 },
 "nbformat": 4,
 "nbformat_minor": 2
}
