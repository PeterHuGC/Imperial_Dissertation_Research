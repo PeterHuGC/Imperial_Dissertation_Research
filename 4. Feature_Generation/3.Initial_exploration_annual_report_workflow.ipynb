{
 "cells": [
  {
   "cell_type": "markdown",
   "metadata": {},
   "source": [
    "# Annual Report Analysis\n",
    "\n",
    "Here we will try some topic modelling"
   ]
  },
  {
   "cell_type": "code",
   "execution_count": 3,
   "metadata": {},
   "outputs": [],
   "source": [
    "import re\n",
    "import nltk\n",
    "import string\n",
    "from nltk.corpus import stopwords\n",
    "from nltk.stem.porter import PorterStemmer\n",
    "\n",
    "from nltk.tokenize import sent_tokenize, word_tokenize\n",
    "\n",
    "import matplotlib.pyplot as plt\n",
    "import seaborn as sns"
   ]
  },
  {
   "cell_type": "code",
   "execution_count": 4,
   "metadata": {},
   "outputs": [],
   "source": [
    "from collections import Counter\n",
    "from sklearn.manifold import TSNE\n",
    "from sklearn.preprocessing import StandardScaler\n",
    "\n",
    "\n",
    "import pandas as pd\n",
    "import numpy as np\n",
    "import os\n",
    "import json\n",
    "import matplotlib.pyplot as plt\n",
    "\n",
    "# basic sklearn preprocessing dependencies\n",
    "from sklearn.model_selection import train_test_split\n",
    "from sklearn.metrics import accuracy_score, f1_score\n",
    "\n",
    "import re"
   ]
  },
  {
   "cell_type": "code",
   "execution_count": 5,
   "metadata": {},
   "outputs": [
    {
     "name": "stderr",
     "output_type": "stream",
     "text": [
      "[nltk_data] Downloading package stopwords to\n",
      "[nltk_data]     /home/bingfeng93/nltk_data...\n",
      "[nltk_data]   Package stopwords is already up-to-date!\n",
      "[nltk_data] Downloading package punkt to /home/bingfeng93/nltk_data...\n",
      "[nltk_data]   Package punkt is already up-to-date!\n"
     ]
    }
   ],
   "source": [
    "# download nltk package\n",
    "nltk.download('stopwords')\n",
    "nltk.download('punkt')\n",
    "\n",
    "stopword=set(stopwords.words('english'))"
   ]
  },
  {
   "cell_type": "code",
   "execution_count": 6,
   "metadata": {},
   "outputs": [],
   "source": [
    "# used a generic data cleaner regex patterns I've found from StackOverflow from the previous coursework\n",
    "\n",
    "def data_cleaner(text, return_tokens = False):\n",
    "    '''\n",
    "    Cleans the data from special characters, urls, punctuation marks, extra spaces.\n",
    "    Removes stopwords (Like if, it, the etc) and transforms the word in its native\n",
    "    form using Porter Stemmer.\n",
    "    '''\n",
    "    text = str(text).lower() # lowercase the string\n",
    "    text = re.sub('\\[.*?\\]', ' ', text) # replace punctuation with whitespaces.\n",
    "    text = re.sub('https?://\\S+|www\\.\\S+', ' ', text) # replacing urls with whitespaces.\n",
    "    text = re.sub('<.*?>+', ' ', text) # removes special characters\n",
    "    text = re.sub('[%s]' % re.escape(string.punctuation), ' ', text) # removes punctuation\n",
    "    text = re.sub('\\r', ' ', text) # removes new line characters\n",
    "    text = re.sub('\\n', ' ', text) # removes new line characters\n",
    "    text = re.sub('\\w*\\d\\w*', ' ', text)\n",
    "    #text = re.sub('–', ' ', text) # remove any additional characters we cannot remove \n",
    "    text = re.sub('[–£…»]', ' ', text) # remove any additional characters we cannot remove \n",
    "    text = text.split()\n",
    "\n",
    "    # removing stopwords.\n",
    "    text = [word for word in text if not word in stopword]\n",
    "\n",
    "    # stemming.\n",
    "    ps = PorterStemmer()\n",
    "    text = [ps.stem(word) for word in text]\n",
    "\n",
    "    if return_tokens:\n",
    "\n",
    "        # return relevant tokens here where needed\n",
    "        return text\n",
    "\n",
    "    #List to string.\n",
    "    text = ' '.join(text)\n",
    "\n",
    "    return text"
   ]
  },
  {
   "cell_type": "code",
   "execution_count": 7,
   "metadata": {},
   "outputs": [],
   "source": [
    "# perform the LSA works\n",
    "from sklearn.decomposition import TruncatedSVD\n",
    "from sklearn.feature_extraction.text import TfidfVectorizer\n"
   ]
  },
  {
   "cell_type": "code",
   "execution_count": 8,
   "metadata": {},
   "outputs": [],
   "source": [
    "# look at this later if needed - just have a raw selection of the code in here now and see how it runs!!\n",
    "\n",
    "# think of converting into different sets for hyperparameter tuning afterwards if needed.\n",
    "\n",
    "# train_set_df , validation_set_df = train_test_split(news_analysis_df,  test_size = 0.2, random_state=SEED)"
   ]
  },
  {
   "cell_type": "code",
   "execution_count": 9,
   "metadata": {},
   "outputs": [],
   "source": [
    "# review the text that has been preprocessed from the raw text\n",
    "# text_lsa = train_set_df[\"text_full_raw_preprocessed\"].apply(data_cleaner, return_tokens=False)\n",
    "# text_lsa.values[:5]"
   ]
  },
  {
   "cell_type": "code",
   "execution_count": 10,
   "metadata": {},
   "outputs": [],
   "source": [
    "# documents = text_lsa.to_list() # change this to additional edits and additional preprocessing where needed\n",
    "# len(documents)"
   ]
  },
  {
   "cell_type": "code",
   "execution_count": 11,
   "metadata": {},
   "outputs": [],
   "source": [
    "# # see the TF-IDF matrix\n",
    "# X.shape"
   ]
  },
  {
   "cell_type": "code",
   "execution_count": 12,
   "metadata": {},
   "outputs": [],
   "source": [
    "SEED = 30224\n",
    "np.random.seed(SEED)"
   ]
  },
  {
   "cell_type": "markdown",
   "metadata": {},
   "source": [
    "## LDA details"
   ]
  },
  {
   "cell_type": "code",
   "execution_count": 13,
   "metadata": {},
   "outputs": [],
   "source": [
    "from gensim.corpora.dictionary import Dictionary\n",
    "from gensim.test.utils import common_texts\n",
    "from gensim.models import LdaMulticore, CoherenceModel # coherence to find the optimal number of topics\n",
    "\n",
    "import matplotlib.colors as mcolors\n",
    "from pyrolite.comp.codata import logratiomean # pip install pyrolite\n",
    "import itertools"
   ]
  },
  {
   "cell_type": "code",
   "execution_count": 14,
   "metadata": {},
   "outputs": [],
   "source": [
    "import json"
   ]
  },
  {
   "cell_type": "code",
   "execution_count": 13,
   "metadata": {},
   "outputs": [],
   "source": [
    "with open(\"../2.Initial_Graph_Building/annual_report_data/all_companies_report_annual_report_text_2022_2024.json\", encoding = \"utf-8\") as file:\n",
    "\n",
    "    sec_10k_lst = json.load( file )"
   ]
  },
  {
   "cell_type": "code",
   "execution_count": 14,
   "metadata": {},
   "outputs": [
    {
     "data": {
      "text/plain": [
       "2373"
      ]
     },
     "execution_count": 14,
     "metadata": {},
     "output_type": "execute_result"
    }
   ],
   "source": [
    "len(sec_10k_lst)"
   ]
  },
  {
   "cell_type": "code",
   "execution_count": 15,
   "metadata": {},
   "outputs": [],
   "source": [
    "sec_10k_df = pd.DataFrame(sec_10k_lst)"
   ]
  },
  {
   "cell_type": "code",
   "execution_count": 16,
   "metadata": {},
   "outputs": [
    {
     "data": {
      "text/html": [
       "<div>\n",
       "<style scoped>\n",
       "    .dataframe tbody tr th:only-of-type {\n",
       "        vertical-align: middle;\n",
       "    }\n",
       "\n",
       "    .dataframe tbody tr th {\n",
       "        vertical-align: top;\n",
       "    }\n",
       "\n",
       "    .dataframe thead th {\n",
       "        text-align: right;\n",
       "    }\n",
       "</style>\n",
       "<table border=\"1\" class=\"dataframe\">\n",
       "  <thead>\n",
       "    <tr style=\"text-align: right;\">\n",
       "      <th></th>\n",
       "      <th>id</th>\n",
       "      <th>accessionNo</th>\n",
       "      <th>cik</th>\n",
       "      <th>ticker</th>\n",
       "      <th>companyName</th>\n",
       "      <th>companyNameLong</th>\n",
       "      <th>formType</th>\n",
       "      <th>description</th>\n",
       "      <th>filedAt</th>\n",
       "      <th>linkToTxt</th>\n",
       "      <th>...</th>\n",
       "      <th>linkToXbrl</th>\n",
       "      <th>linkToFilingDetails</th>\n",
       "      <th>entities</th>\n",
       "      <th>documentFormatFiles</th>\n",
       "      <th>dataFiles</th>\n",
       "      <th>seriesAndClassesContractsInformation</th>\n",
       "      <th>periodOfReport</th>\n",
       "      <th>Text_1</th>\n",
       "      <th>Text_1A</th>\n",
       "      <th>effectivenessDate</th>\n",
       "    </tr>\n",
       "  </thead>\n",
       "  <tbody>\n",
       "    <tr>\n",
       "      <th>0</th>\n",
       "      <td>c192751c88f50d8ca603ab72c5840583</td>\n",
       "      <td>0000318154-24-000011</td>\n",
       "      <td>318154</td>\n",
       "      <td>AMGN</td>\n",
       "      <td>AMGEN INC</td>\n",
       "      <td>AMGEN INC (Filer)</td>\n",
       "      <td>10-K</td>\n",
       "      <td>Form 10-K - Annual report [Section 13 and 15(d...</td>\n",
       "      <td>2024-02-14T16:23:32-05:00</td>\n",
       "      <td>https://www.sec.gov/Archives/edgar/data/318154...</td>\n",
       "      <td>...</td>\n",
       "      <td></td>\n",
       "      <td>https://www.sec.gov/Archives/edgar/data/318154...</td>\n",
       "      <td>[{'companyName': 'AMGEN INC (Filer)', 'cik': '...</td>\n",
       "      <td>[{'sequence': '1', 'description': '10-K', 'doc...</td>\n",
       "      <td>[{'sequence': '17', 'description': 'XBRL TAXON...</td>\n",
       "      <td>[]</td>\n",
       "      <td>2023-12-31</td>\n",
       "      <td>Item 1. BUSINESS ##TABLE_END\\n\\nAmgen Inc. (i...</td>\n",
       "      <td>Item 1A. RISK FACTORS ##TABLE_END\\n\\nThis rep...</td>\n",
       "      <td>NaN</td>\n",
       "    </tr>\n",
       "    <tr>\n",
       "      <th>1</th>\n",
       "      <td>3f8f2f776c43180b8573405b00605c15</td>\n",
       "      <td>0000318154-23-000017</td>\n",
       "      <td>318154</td>\n",
       "      <td>AMGN</td>\n",
       "      <td>AMGEN INC</td>\n",
       "      <td>AMGEN INC (Filer)</td>\n",
       "      <td>10-K</td>\n",
       "      <td>Form 10-K - Annual report [Section 13 and 15(d...</td>\n",
       "      <td>2023-02-09T16:26:31-05:00</td>\n",
       "      <td>https://www.sec.gov/Archives/edgar/data/318154...</td>\n",
       "      <td>...</td>\n",
       "      <td></td>\n",
       "      <td>https://www.sec.gov/Archives/edgar/data/318154...</td>\n",
       "      <td>[{'companyName': 'AMGEN INC (Filer)', 'cik': '...</td>\n",
       "      <td>[{'sequence': '1', 'description': '10-K', 'doc...</td>\n",
       "      <td>[{'sequence': '11', 'description': 'XBRL TAXON...</td>\n",
       "      <td>[]</td>\n",
       "      <td>2022-12-31</td>\n",
       "      <td>Item 1. BUSINESS ##TABLE_END\\n\\nAmgen Inc. (i...</td>\n",
       "      <td>Item 1A. RISK FACTORS ##TABLE_END\\n\\nThis rep...</td>\n",
       "      <td>NaN</td>\n",
       "    </tr>\n",
       "    <tr>\n",
       "      <th>2</th>\n",
       "      <td>1d205d8c366bf6e51746f33967a1141d</td>\n",
       "      <td>0000318154-22-000010</td>\n",
       "      <td>318154</td>\n",
       "      <td>AMGN</td>\n",
       "      <td>AMGEN INC</td>\n",
       "      <td>AMGEN INC (Filer)</td>\n",
       "      <td>10-K</td>\n",
       "      <td>Form 10-K - Annual report [Section 13 and 15(d...</td>\n",
       "      <td>2022-02-16T16:39:53-05:00</td>\n",
       "      <td>https://www.sec.gov/Archives/edgar/data/318154...</td>\n",
       "      <td>...</td>\n",
       "      <td></td>\n",
       "      <td>https://www.sec.gov/Archives/edgar/data/318154...</td>\n",
       "      <td>[{'companyName': 'AMGEN INC (Filer)', 'cik': '...</td>\n",
       "      <td>[{'sequence': '1', 'description': '10-K', 'doc...</td>\n",
       "      <td>[{'sequence': '13', 'description': 'XBRL TAXON...</td>\n",
       "      <td>[]</td>\n",
       "      <td>2021-12-31</td>\n",
       "      <td>Item 1. BUSINESS ##TABLE_END\\n\\nAmgen Inc. (i...</td>\n",
       "      <td>Item 1A. RISK FACTORS ##TABLE_END\\n\\nThis rep...</td>\n",
       "      <td>NaN</td>\n",
       "    </tr>\n",
       "    <tr>\n",
       "      <th>3</th>\n",
       "      <td>358cf2de3309caed349f7d4505bf6d49</td>\n",
       "      <td>0001628280-24-005397</td>\n",
       "      <td>9326</td>\n",
       "      <td>BCPC</td>\n",
       "      <td>BALCHEM CORP</td>\n",
       "      <td>BALCHEM CORP (Filer)</td>\n",
       "      <td>10-K</td>\n",
       "      <td>Form 10-K - Annual report [Section 13 and 15(d...</td>\n",
       "      <td>2024-02-16T17:26:27-05:00</td>\n",
       "      <td>https://www.sec.gov/Archives/edgar/data/9326/0...</td>\n",
       "      <td>...</td>\n",
       "      <td></td>\n",
       "      <td>https://www.sec.gov/Archives/edgar/data/9326/0...</td>\n",
       "      <td>[{'companyName': 'BALCHEM CORP (Filer)', 'cik'...</td>\n",
       "      <td>[{'sequence': '1', 'description': '10-K', 'doc...</td>\n",
       "      <td>[{'sequence': '14', 'description': 'XBRL TAXON...</td>\n",
       "      <td>[]</td>\n",
       "      <td>2023-12-31</td>\n",
       "      <td>Item 1. Business (All amounts in thousands, e...</td>\n",
       "      <td>Item 1A. Risk Factors \\n\\nWe discuss our expe...</td>\n",
       "      <td>NaN</td>\n",
       "    </tr>\n",
       "    <tr>\n",
       "      <th>4</th>\n",
       "      <td>1941cf293846a69b64943f8b2b3ff87f</td>\n",
       "      <td>0001628280-23-005074</td>\n",
       "      <td>9326</td>\n",
       "      <td>BCPC</td>\n",
       "      <td>BALCHEM CORP</td>\n",
       "      <td>BALCHEM CORP (Filer)</td>\n",
       "      <td>10-K</td>\n",
       "      <td>Form 10-K - Annual report [Section 13 and 15(d...</td>\n",
       "      <td>2023-02-24T16:43:02-05:00</td>\n",
       "      <td>https://www.sec.gov/Archives/edgar/data/9326/0...</td>\n",
       "      <td>...</td>\n",
       "      <td></td>\n",
       "      <td>https://www.sec.gov/Archives/edgar/data/9326/0...</td>\n",
       "      <td>[{'companyName': 'BALCHEM CORP (Filer)', 'cik'...</td>\n",
       "      <td>[{'sequence': '1', 'description': '10-K', 'doc...</td>\n",
       "      <td>[{'sequence': '12', 'description': 'XBRL TAXON...</td>\n",
       "      <td>[]</td>\n",
       "      <td>2022-12-31</td>\n",
       "      <td>Item 1. Business (All amounts in thousands, e...</td>\n",
       "      <td>Item 1A. Risk Factors \\n\\nWe discuss our expe...</td>\n",
       "      <td>NaN</td>\n",
       "    </tr>\n",
       "    <tr>\n",
       "      <th>...</th>\n",
       "      <td>...</td>\n",
       "      <td>...</td>\n",
       "      <td>...</td>\n",
       "      <td>...</td>\n",
       "      <td>...</td>\n",
       "      <td>...</td>\n",
       "      <td>...</td>\n",
       "      <td>...</td>\n",
       "      <td>...</td>\n",
       "      <td>...</td>\n",
       "      <td>...</td>\n",
       "      <td>...</td>\n",
       "      <td>...</td>\n",
       "      <td>...</td>\n",
       "      <td>...</td>\n",
       "      <td>...</td>\n",
       "      <td>...</td>\n",
       "      <td>...</td>\n",
       "      <td>...</td>\n",
       "      <td>...</td>\n",
       "      <td>...</td>\n",
       "    </tr>\n",
       "    <tr>\n",
       "      <th>2368</th>\n",
       "      <td>437a263932014ad06bcdbde870c7ae88</td>\n",
       "      <td>0001493152-24-009769</td>\n",
       "      <td>1857044</td>\n",
       "      <td>INDP</td>\n",
       "      <td>Indaptus Therapeutics, Inc.</td>\n",
       "      <td>Indaptus Therapeutics, Inc. (Filer)</td>\n",
       "      <td>10-K</td>\n",
       "      <td>Form 10-K - Annual report [Section 13 and 15(d...</td>\n",
       "      <td>2024-03-13T08:02:27-04:00</td>\n",
       "      <td>https://www.sec.gov/Archives/edgar/data/185704...</td>\n",
       "      <td>...</td>\n",
       "      <td></td>\n",
       "      <td>https://www.sec.gov/Archives/edgar/data/185704...</td>\n",
       "      <td>[{'companyName': 'Indaptus Therapeutics, Inc. ...</td>\n",
       "      <td>[{'sequence': '1', 'documentUrl': 'https://www...</td>\n",
       "      <td>[{'sequence': '16', 'description': 'XBRL SCHEM...</td>\n",
       "      <td>[]</td>\n",
       "      <td>2023-12-31</td>\n",
       "      <td>Item 1. Business. \\n\\n&amp;#160; \\n\\nOverview \\n\\...</td>\n",
       "      <td>Item 1A. Risk Factors. \\n\\n&amp;#160; \\n\\nYou sho...</td>\n",
       "      <td>NaN</td>\n",
       "    </tr>\n",
       "    <tr>\n",
       "      <th>2369</th>\n",
       "      <td>8751e66576529b1cda4f7faf672dbdc1</td>\n",
       "      <td>0001493152-23-008010</td>\n",
       "      <td>1857044</td>\n",
       "      <td>INDP</td>\n",
       "      <td>Indaptus Therapeutics, Inc.</td>\n",
       "      <td>Indaptus Therapeutics, Inc. (Filer)</td>\n",
       "      <td>10-K</td>\n",
       "      <td>Form 10-K - Annual report [Section 13 and 15(d...</td>\n",
       "      <td>2023-03-17T08:05:56-04:00</td>\n",
       "      <td>https://www.sec.gov/Archives/edgar/data/185704...</td>\n",
       "      <td>...</td>\n",
       "      <td></td>\n",
       "      <td>https://www.sec.gov/Archives/edgar/data/185704...</td>\n",
       "      <td>[{'companyName': 'Indaptus Therapeutics, Inc. ...</td>\n",
       "      <td>[{'sequence': '1', 'documentUrl': 'https://www...</td>\n",
       "      <td>[{'sequence': '18', 'description': 'XBRL SCHEM...</td>\n",
       "      <td>[]</td>\n",
       "      <td>2022-12-31</td>\n",
       "      <td>Item 1. Business. \\n\\n&amp;#160; \\n\\nOverview \\n\\...</td>\n",
       "      <td>Item 1A. Risk Factors. \\n\\n&amp;#160; \\n\\nYou sho...</td>\n",
       "      <td>NaN</td>\n",
       "    </tr>\n",
       "    <tr>\n",
       "      <th>2370</th>\n",
       "      <td>71661625315f74d4e79bb06e38c3d86b</td>\n",
       "      <td>0001493152-22-007319</td>\n",
       "      <td>1857044</td>\n",
       "      <td>INDP</td>\n",
       "      <td>Indaptus Therapeutics, Inc.</td>\n",
       "      <td>Indaptus Therapeutics, Inc. (Filer)</td>\n",
       "      <td>10-K</td>\n",
       "      <td>Form 10-K - Annual report [Section 13 and 15(d...</td>\n",
       "      <td>2022-03-21T07:05:43-04:00</td>\n",
       "      <td>https://www.sec.gov/Archives/edgar/data/185704...</td>\n",
       "      <td>...</td>\n",
       "      <td></td>\n",
       "      <td>https://www.sec.gov/Archives/edgar/data/185704...</td>\n",
       "      <td>[{'companyName': 'Indaptus Therapeutics, Inc. ...</td>\n",
       "      <td>[{'sequence': '1', 'documentUrl': 'https://www...</td>\n",
       "      <td>[{'sequence': '16', 'description': 'INLINE XBR...</td>\n",
       "      <td>[]</td>\n",
       "      <td>2021-12-31</td>\n",
       "      <td>Item 1. Business. \\n\\n&amp;#160; \\n\\nOverview \\n\\...</td>\n",
       "      <td>Item 1A. Risk Factors. \\n\\n&amp;#160; \\n\\nYou sho...</td>\n",
       "      <td>NaN</td>\n",
       "    </tr>\n",
       "    <tr>\n",
       "      <th>2371</th>\n",
       "      <td>b7522c86bfe011a281523375ad563f1d</td>\n",
       "      <td>0001410578-24-000198</td>\n",
       "      <td>1671502</td>\n",
       "      <td>QNRX</td>\n",
       "      <td>Quoin Pharmaceuticals, Ltd.</td>\n",
       "      <td>Quoin Pharmaceuticals, Ltd. (Filer)</td>\n",
       "      <td>10-K</td>\n",
       "      <td>Form 10-K - Annual report [Section 13 and 15(d...</td>\n",
       "      <td>2024-03-14T16:42:23-04:00</td>\n",
       "      <td>https://www.sec.gov/Archives/edgar/data/167150...</td>\n",
       "      <td>...</td>\n",
       "      <td></td>\n",
       "      <td>https://www.sec.gov/Archives/edgar/data/167150...</td>\n",
       "      <td>[{'companyName': 'Quoin Pharmaceuticals, Ltd. ...</td>\n",
       "      <td>[{'sequence': '1', 'description': '10-K', 'doc...</td>\n",
       "      <td>[{'sequence': '9', 'description': 'EX-101.SCH'...</td>\n",
       "      <td>[]</td>\n",
       "      <td>2023-12-31</td>\n",
       "      <td>Item 1. Business \\n\\nCompany Overview \\n\\nWe ...</td>\n",
       "      <td>Item 1A. Risk Factors \\n\\nInvesting in our se...</td>\n",
       "      <td>NaN</td>\n",
       "    </tr>\n",
       "    <tr>\n",
       "      <th>2372</th>\n",
       "      <td>a63dc927d12b1440b673442907563581</td>\n",
       "      <td>0001410578-23-000267</td>\n",
       "      <td>1671502</td>\n",
       "      <td>QNRX</td>\n",
       "      <td>Quoin Pharmaceuticals, Ltd.</td>\n",
       "      <td>Quoin Pharmaceuticals, Ltd. (Filer)</td>\n",
       "      <td>10-K</td>\n",
       "      <td>Form 10-K - Annual report [Section 13 and 15(d...</td>\n",
       "      <td>2023-03-15T14:32:00-04:00</td>\n",
       "      <td>https://www.sec.gov/Archives/edgar/data/167150...</td>\n",
       "      <td>...</td>\n",
       "      <td></td>\n",
       "      <td>https://www.sec.gov/Archives/edgar/data/167150...</td>\n",
       "      <td>[{'companyName': 'Quoin Pharmaceuticals, Ltd. ...</td>\n",
       "      <td>[{'sequence': '1', 'description': '10-K', 'doc...</td>\n",
       "      <td>[{'sequence': '8', 'description': 'EX-101.SCH'...</td>\n",
       "      <td>[]</td>\n",
       "      <td>2022-12-31</td>\n",
       "      <td>Item 1. Business \\n\\nCompany Overview \\n\\nWe ...</td>\n",
       "      <td>Item 1A. Risk Factors \\n\\nInvesting in our se...</td>\n",
       "      <td>NaN</td>\n",
       "    </tr>\n",
       "  </tbody>\n",
       "</table>\n",
       "<p>2373 rows × 21 columns</p>\n",
       "</div>"
      ],
      "text/plain": [
       "                                    id           accessionNo      cik ticker  \\\n",
       "0     c192751c88f50d8ca603ab72c5840583  0000318154-24-000011   318154   AMGN   \n",
       "1     3f8f2f776c43180b8573405b00605c15  0000318154-23-000017   318154   AMGN   \n",
       "2     1d205d8c366bf6e51746f33967a1141d  0000318154-22-000010   318154   AMGN   \n",
       "3     358cf2de3309caed349f7d4505bf6d49  0001628280-24-005397     9326   BCPC   \n",
       "4     1941cf293846a69b64943f8b2b3ff87f  0001628280-23-005074     9326   BCPC   \n",
       "...                                ...                   ...      ...    ...   \n",
       "2368  437a263932014ad06bcdbde870c7ae88  0001493152-24-009769  1857044   INDP   \n",
       "2369  8751e66576529b1cda4f7faf672dbdc1  0001493152-23-008010  1857044   INDP   \n",
       "2370  71661625315f74d4e79bb06e38c3d86b  0001493152-22-007319  1857044   INDP   \n",
       "2371  b7522c86bfe011a281523375ad563f1d  0001410578-24-000198  1671502   QNRX   \n",
       "2372  a63dc927d12b1440b673442907563581  0001410578-23-000267  1671502   QNRX   \n",
       "\n",
       "                      companyName                      companyNameLong  \\\n",
       "0                       AMGEN INC                    AMGEN INC (Filer)   \n",
       "1                       AMGEN INC                    AMGEN INC (Filer)   \n",
       "2                       AMGEN INC                    AMGEN INC (Filer)   \n",
       "3                    BALCHEM CORP                 BALCHEM CORP (Filer)   \n",
       "4                    BALCHEM CORP                 BALCHEM CORP (Filer)   \n",
       "...                           ...                                  ...   \n",
       "2368  Indaptus Therapeutics, Inc.  Indaptus Therapeutics, Inc. (Filer)   \n",
       "2369  Indaptus Therapeutics, Inc.  Indaptus Therapeutics, Inc. (Filer)   \n",
       "2370  Indaptus Therapeutics, Inc.  Indaptus Therapeutics, Inc. (Filer)   \n",
       "2371  Quoin Pharmaceuticals, Ltd.  Quoin Pharmaceuticals, Ltd. (Filer)   \n",
       "2372  Quoin Pharmaceuticals, Ltd.  Quoin Pharmaceuticals, Ltd. (Filer)   \n",
       "\n",
       "     formType                                        description  \\\n",
       "0        10-K  Form 10-K - Annual report [Section 13 and 15(d...   \n",
       "1        10-K  Form 10-K - Annual report [Section 13 and 15(d...   \n",
       "2        10-K  Form 10-K - Annual report [Section 13 and 15(d...   \n",
       "3        10-K  Form 10-K - Annual report [Section 13 and 15(d...   \n",
       "4        10-K  Form 10-K - Annual report [Section 13 and 15(d...   \n",
       "...       ...                                                ...   \n",
       "2368     10-K  Form 10-K - Annual report [Section 13 and 15(d...   \n",
       "2369     10-K  Form 10-K - Annual report [Section 13 and 15(d...   \n",
       "2370     10-K  Form 10-K - Annual report [Section 13 and 15(d...   \n",
       "2371     10-K  Form 10-K - Annual report [Section 13 and 15(d...   \n",
       "2372     10-K  Form 10-K - Annual report [Section 13 and 15(d...   \n",
       "\n",
       "                        filedAt  \\\n",
       "0     2024-02-14T16:23:32-05:00   \n",
       "1     2023-02-09T16:26:31-05:00   \n",
       "2     2022-02-16T16:39:53-05:00   \n",
       "3     2024-02-16T17:26:27-05:00   \n",
       "4     2023-02-24T16:43:02-05:00   \n",
       "...                         ...   \n",
       "2368  2024-03-13T08:02:27-04:00   \n",
       "2369  2023-03-17T08:05:56-04:00   \n",
       "2370  2022-03-21T07:05:43-04:00   \n",
       "2371  2024-03-14T16:42:23-04:00   \n",
       "2372  2023-03-15T14:32:00-04:00   \n",
       "\n",
       "                                              linkToTxt  ... linkToXbrl  \\\n",
       "0     https://www.sec.gov/Archives/edgar/data/318154...  ...              \n",
       "1     https://www.sec.gov/Archives/edgar/data/318154...  ...              \n",
       "2     https://www.sec.gov/Archives/edgar/data/318154...  ...              \n",
       "3     https://www.sec.gov/Archives/edgar/data/9326/0...  ...              \n",
       "4     https://www.sec.gov/Archives/edgar/data/9326/0...  ...              \n",
       "...                                                 ...  ...        ...   \n",
       "2368  https://www.sec.gov/Archives/edgar/data/185704...  ...              \n",
       "2369  https://www.sec.gov/Archives/edgar/data/185704...  ...              \n",
       "2370  https://www.sec.gov/Archives/edgar/data/185704...  ...              \n",
       "2371  https://www.sec.gov/Archives/edgar/data/167150...  ...              \n",
       "2372  https://www.sec.gov/Archives/edgar/data/167150...  ...              \n",
       "\n",
       "                                    linkToFilingDetails  \\\n",
       "0     https://www.sec.gov/Archives/edgar/data/318154...   \n",
       "1     https://www.sec.gov/Archives/edgar/data/318154...   \n",
       "2     https://www.sec.gov/Archives/edgar/data/318154...   \n",
       "3     https://www.sec.gov/Archives/edgar/data/9326/0...   \n",
       "4     https://www.sec.gov/Archives/edgar/data/9326/0...   \n",
       "...                                                 ...   \n",
       "2368  https://www.sec.gov/Archives/edgar/data/185704...   \n",
       "2369  https://www.sec.gov/Archives/edgar/data/185704...   \n",
       "2370  https://www.sec.gov/Archives/edgar/data/185704...   \n",
       "2371  https://www.sec.gov/Archives/edgar/data/167150...   \n",
       "2372  https://www.sec.gov/Archives/edgar/data/167150...   \n",
       "\n",
       "                                               entities  \\\n",
       "0     [{'companyName': 'AMGEN INC (Filer)', 'cik': '...   \n",
       "1     [{'companyName': 'AMGEN INC (Filer)', 'cik': '...   \n",
       "2     [{'companyName': 'AMGEN INC (Filer)', 'cik': '...   \n",
       "3     [{'companyName': 'BALCHEM CORP (Filer)', 'cik'...   \n",
       "4     [{'companyName': 'BALCHEM CORP (Filer)', 'cik'...   \n",
       "...                                                 ...   \n",
       "2368  [{'companyName': 'Indaptus Therapeutics, Inc. ...   \n",
       "2369  [{'companyName': 'Indaptus Therapeutics, Inc. ...   \n",
       "2370  [{'companyName': 'Indaptus Therapeutics, Inc. ...   \n",
       "2371  [{'companyName': 'Quoin Pharmaceuticals, Ltd. ...   \n",
       "2372  [{'companyName': 'Quoin Pharmaceuticals, Ltd. ...   \n",
       "\n",
       "                                    documentFormatFiles  \\\n",
       "0     [{'sequence': '1', 'description': '10-K', 'doc...   \n",
       "1     [{'sequence': '1', 'description': '10-K', 'doc...   \n",
       "2     [{'sequence': '1', 'description': '10-K', 'doc...   \n",
       "3     [{'sequence': '1', 'description': '10-K', 'doc...   \n",
       "4     [{'sequence': '1', 'description': '10-K', 'doc...   \n",
       "...                                                 ...   \n",
       "2368  [{'sequence': '1', 'documentUrl': 'https://www...   \n",
       "2369  [{'sequence': '1', 'documentUrl': 'https://www...   \n",
       "2370  [{'sequence': '1', 'documentUrl': 'https://www...   \n",
       "2371  [{'sequence': '1', 'description': '10-K', 'doc...   \n",
       "2372  [{'sequence': '1', 'description': '10-K', 'doc...   \n",
       "\n",
       "                                              dataFiles  \\\n",
       "0     [{'sequence': '17', 'description': 'XBRL TAXON...   \n",
       "1     [{'sequence': '11', 'description': 'XBRL TAXON...   \n",
       "2     [{'sequence': '13', 'description': 'XBRL TAXON...   \n",
       "3     [{'sequence': '14', 'description': 'XBRL TAXON...   \n",
       "4     [{'sequence': '12', 'description': 'XBRL TAXON...   \n",
       "...                                                 ...   \n",
       "2368  [{'sequence': '16', 'description': 'XBRL SCHEM...   \n",
       "2369  [{'sequence': '18', 'description': 'XBRL SCHEM...   \n",
       "2370  [{'sequence': '16', 'description': 'INLINE XBR...   \n",
       "2371  [{'sequence': '9', 'description': 'EX-101.SCH'...   \n",
       "2372  [{'sequence': '8', 'description': 'EX-101.SCH'...   \n",
       "\n",
       "     seriesAndClassesContractsInformation periodOfReport  \\\n",
       "0                                      []     2023-12-31   \n",
       "1                                      []     2022-12-31   \n",
       "2                                      []     2021-12-31   \n",
       "3                                      []     2023-12-31   \n",
       "4                                      []     2022-12-31   \n",
       "...                                   ...            ...   \n",
       "2368                                   []     2023-12-31   \n",
       "2369                                   []     2022-12-31   \n",
       "2370                                   []     2021-12-31   \n",
       "2371                                   []     2023-12-31   \n",
       "2372                                   []     2022-12-31   \n",
       "\n",
       "                                                 Text_1  \\\n",
       "0      Item 1. BUSINESS ##TABLE_END\\n\\nAmgen Inc. (i...   \n",
       "1      Item 1. BUSINESS ##TABLE_END\\n\\nAmgen Inc. (i...   \n",
       "2      Item 1. BUSINESS ##TABLE_END\\n\\nAmgen Inc. (i...   \n",
       "3      Item 1. Business (All amounts in thousands, e...   \n",
       "4      Item 1. Business (All amounts in thousands, e...   \n",
       "...                                                 ...   \n",
       "2368   Item 1. Business. \\n\\n&#160; \\n\\nOverview \\n\\...   \n",
       "2369   Item 1. Business. \\n\\n&#160; \\n\\nOverview \\n\\...   \n",
       "2370   Item 1. Business. \\n\\n&#160; \\n\\nOverview \\n\\...   \n",
       "2371   Item 1. Business \\n\\nCompany Overview \\n\\nWe ...   \n",
       "2372   Item 1. Business \\n\\nCompany Overview \\n\\nWe ...   \n",
       "\n",
       "                                                Text_1A effectivenessDate  \n",
       "0      Item 1A. RISK FACTORS ##TABLE_END\\n\\nThis rep...               NaN  \n",
       "1      Item 1A. RISK FACTORS ##TABLE_END\\n\\nThis rep...               NaN  \n",
       "2      Item 1A. RISK FACTORS ##TABLE_END\\n\\nThis rep...               NaN  \n",
       "3      Item 1A. Risk Factors \\n\\nWe discuss our expe...               NaN  \n",
       "4      Item 1A. Risk Factors \\n\\nWe discuss our expe...               NaN  \n",
       "...                                                 ...               ...  \n",
       "2368   Item 1A. Risk Factors. \\n\\n&#160; \\n\\nYou sho...               NaN  \n",
       "2369   Item 1A. Risk Factors. \\n\\n&#160; \\n\\nYou sho...               NaN  \n",
       "2370   Item 1A. Risk Factors. \\n\\n&#160; \\n\\nYou sho...               NaN  \n",
       "2371   Item 1A. Risk Factors \\n\\nInvesting in our se...               NaN  \n",
       "2372   Item 1A. Risk Factors \\n\\nInvesting in our se...               NaN  \n",
       "\n",
       "[2373 rows x 21 columns]"
      ]
     },
     "execution_count": 16,
     "metadata": {},
     "output_type": "execute_result"
    }
   ],
   "source": [
    "sec_10k_df"
   ]
  },
  {
   "cell_type": "code",
   "execution_count": 17,
   "metadata": {},
   "outputs": [
    {
     "data": {
      "text/plain": [
       "Index(['id', 'accessionNo', 'cik', 'ticker', 'companyName', 'companyNameLong',\n",
       "       'formType', 'description', 'filedAt', 'linkToTxt', 'linkToHtml',\n",
       "       'linkToXbrl', 'linkToFilingDetails', 'entities', 'documentFormatFiles',\n",
       "       'dataFiles', 'seriesAndClassesContractsInformation', 'periodOfReport',\n",
       "       'Text_1', 'Text_1A', 'effectivenessDate'],\n",
       "      dtype='object')"
      ]
     },
     "execution_count": 17,
     "metadata": {},
     "output_type": "execute_result"
    }
   ],
   "source": [
    "sec_10k_df.columns"
   ]
  },
  {
   "cell_type": "markdown",
   "metadata": {},
   "source": [
    "Given the basic stop words let's now analyse the topics of the documents over time.\n",
    "\n",
    "Look at the risk profile of the annual report here."
   ]
  },
  {
   "cell_type": "code",
   "execution_count": 18,
   "metadata": {},
   "outputs": [],
   "source": [
    "# load the documents here and that's it!!\n",
    "\n",
    "# no need to use preprocessed - just use the data that is there and that's it!!\n",
    "\n",
    "# convert into series and then match with the original\n",
    "\n",
    "sec_10k_risk_1A = sec_10k_df[\"Text_1A\"]"
   ]
  },
  {
   "cell_type": "code",
   "execution_count": 19,
   "metadata": {},
   "outputs": [],
   "source": [
    "text_lda = sec_10k_risk_1A"
   ]
  },
  {
   "cell_type": "code",
   "execution_count": 20,
   "metadata": {},
   "outputs": [
    {
     "data": {
      "text/plain": [
       "2373"
      ]
     },
     "execution_count": 20,
     "metadata": {},
     "output_type": "execute_result"
    }
   ],
   "source": [
    "docs_tok = text_lda.apply(data_cleaner, return_tokens=True)\n",
    "len(docs_tok) # 6 minutes to run everything - see if there is a more effient way to to do this!!"
   ]
  },
  {
   "cell_type": "code",
   "execution_count": 23,
   "metadata": {},
   "outputs": [],
   "source": [
    "sec_10k_df[\"Text_1A_data_cleaned\"] = docs_tok"
   ]
  },
  {
   "cell_type": "code",
   "execution_count": 24,
   "metadata": {},
   "outputs": [],
   "source": [
    "sec_10k_df.to_json(\"all_companies_metadata_2022_2024_text_1A_cleaned.json\")"
   ]
  },
  {
   "cell_type": "markdown",
   "metadata": {},
   "source": [
    "Restart workflow here"
   ]
  },
  {
   "cell_type": "code",
   "execution_count": 15,
   "metadata": {},
   "outputs": [],
   "source": [
    "with open(\"all_companies_metadata_2022_2024_text_1A_cleaned.json\", encoding = \"utf-8\") as file:\n",
    "\n",
    "    sec_10k_lst_ = json.load( file )\n"
   ]
  },
  {
   "cell_type": "code",
   "execution_count": 16,
   "metadata": {},
   "outputs": [],
   "source": [
    "sec_10k_df = pd.DataFrame(sec_10k_lst_)"
   ]
  },
  {
   "cell_type": "code",
   "execution_count": 17,
   "metadata": {},
   "outputs": [],
   "source": [
    "docs_tok = sec_10k_df[\"Text_1A_data_cleaned\"]"
   ]
  },
  {
   "cell_type": "code",
   "execution_count": 18,
   "metadata": {},
   "outputs": [],
   "source": [
    "# now build the term frequency matrix as required by LDA\n",
    "\n",
    "common_dictionary = Dictionary(docs_tok)\n",
    "\n",
    "common_corpus = [common_dictionary.doc2bow(text) for text in docs_tok]"
   ]
  },
  {
   "cell_type": "code",
   "execution_count": 19,
   "metadata": {},
   "outputs": [],
   "source": [
    "from tqdm import tqdm"
   ]
  },
  {
   "cell_type": "markdown",
   "metadata": {},
   "source": [
    "Finding multiple topics this way can be quite time consuming - so we need some alternative Bayesian way to achieve this instead!!\n",
    "\n",
    "Here we use the frequentist approach here to find the best number of topics, although a more optimal frequentist approach could work better."
   ]
  },
  {
   "cell_type": "code",
   "execution_count": 20,
   "metadata": {},
   "outputs": [],
   "source": [
    "# # finding the optimal number of topics between 2 and 10\n",
    "\n",
    "# # TAKES 7 minutes to run BEWARE!!\n",
    "# min_topics = 2\n",
    "# max_topics = 10\n",
    "\n",
    "# model_list = []\n",
    "# coherence_values = []\n",
    "\n",
    "# for num_topics in tqdm(range(min_topics, max_topics + 1)):\n",
    "#     # we train the lda model - using the same code from the lda lab in uda\n",
    "#     lda_model = LdaMulticore(corpus=common_corpus,\n",
    "#                              id2word=common_dictionary,\n",
    "#                              num_topics=num_topics,\n",
    "#                              passes=10)\n",
    "    \n",
    "#     model_list.append(lda_model)\n",
    "    \n",
    "#     # here we calculate the coherence score\n",
    "#     # recommended method for optimal topic on matheworks and stackoverflow\n",
    "#     # https://stackoverflow.com/questions/17421887/how-to-determine-the-number-of-topics-for-lda\n",
    "#     # https://uk.mathworks.com/help/textanalytics/ug/choose-number-of-topics-for-LDA-model.html\n",
    "#     coherence_model_lda = CoherenceModel(model=lda_model, texts=docs_tok, dictionary=common_dictionary, coherence='c_v')\n",
    "#     coherence_lda = coherence_model_lda.get_coherence()\n",
    "#     coherence_values.append(coherence_lda)\n",
    "\n",
    "# # select the optimal model topics based on stackoverflow\n",
    "# optimal_model_index = coherence_values.index(max(coherence_values))\n",
    "# optimal_model = model_list[optimal_model_index]\n",
    "# optimal_num_topics = min_topics + optimal_model_index\n",
    "\n",
    "# print(\"Optimal Number of Topics:\", optimal_num_topics)\n",
    "\n",
    "# # create a graph from the above, for this.\n",
    "\n",
    "# # reduce the size for the details for workflow"
   ]
  },
  {
   "cell_type": "code",
   "execution_count": 21,
   "metadata": {},
   "outputs": [],
   "source": [
    "# topics_range = range(min_topics, max_topics + 1)\n",
    "\n",
    "# plt.figure(figsize=(10, 6))\n",
    "# plt.plot(topics_range, coherence_values, marker='o')\n",
    "# plt.xlabel(\"Number of Topics\")\n",
    "# plt.ylabel(\"Coherence score\")\n",
    "# plt.title(\"LDA Model Coherence Scores by Number of Topics\")\n",
    "# plt.xticks(topics_range)\n",
    "# plt.grid(True)"
   ]
  },
  {
   "cell_type": "markdown",
   "metadata": {},
   "source": [
    "Problem - LDA can take a lot of time to run given the sheer number of documents\n",
    "\n",
    "So there is a limitation to this approach, could decide to summarise to speed up the computational time if this isn't working!!\n",
    "\n",
    "There is a problem with the CPU cores and notebook, maybe fix that later, maybe notebook instructions (Try notebook and also Python 11 if issue persists)"
   ]
  },
  {
   "cell_type": "code",
   "execution_count": 22,
   "metadata": {},
   "outputs": [],
   "source": [
    "num_topics = 6\n",
    "lda_model = LdaMulticore(corpus=common_corpus,\n",
    "                         id2word=common_dictionary,\n",
    "                         num_topics=num_topics,\n",
    "                        passes=10\n",
    "                        )"
   ]
  },
  {
   "cell_type": "code",
   "execution_count": null,
   "metadata": {},
   "outputs": [],
   "source": [
    "# coherence_values"
   ]
  },
  {
   "cell_type": "markdown",
   "metadata": {},
   "source": [
    "Show topic importance"
   ]
  },
  {
   "cell_type": "code",
   "execution_count": null,
   "metadata": {},
   "outputs": [
    {
     "ename": "ValueError",
     "evalue": "x and y must have same first dimension, but have shapes (9,) and (1,)",
     "output_type": "error",
     "traceback": [
      "\u001b[0;31m---------------------------------------------------------------------------\u001b[0m",
      "\u001b[0;31mValueError\u001b[0m                                Traceback (most recent call last)",
      "Cell \u001b[0;32mIn[30], line 4\u001b[0m\n\u001b[1;32m      1\u001b[0m topics_range \u001b[38;5;241m=\u001b[39m \u001b[38;5;28mrange\u001b[39m(min_topics, max_topics \u001b[38;5;241m+\u001b[39m \u001b[38;5;241m1\u001b[39m)\n\u001b[1;32m      3\u001b[0m plt\u001b[38;5;241m.\u001b[39mfigure(figsize\u001b[38;5;241m=\u001b[39m(\u001b[38;5;241m10\u001b[39m, \u001b[38;5;241m6\u001b[39m))\n\u001b[0;32m----> 4\u001b[0m \u001b[43mplt\u001b[49m\u001b[38;5;241;43m.\u001b[39;49m\u001b[43mplot\u001b[49m\u001b[43m(\u001b[49m\u001b[43mtopics_range\u001b[49m\u001b[43m,\u001b[49m\u001b[43m \u001b[49m\u001b[43mcoherence_values\u001b[49m\u001b[43m,\u001b[49m\u001b[43m \u001b[49m\u001b[43mmarker\u001b[49m\u001b[38;5;241;43m=\u001b[39;49m\u001b[38;5;124;43m'\u001b[39;49m\u001b[38;5;124;43mo\u001b[39;49m\u001b[38;5;124;43m'\u001b[39;49m\u001b[43m)\u001b[49m\n\u001b[1;32m      5\u001b[0m plt\u001b[38;5;241m.\u001b[39mxlabel(\u001b[38;5;124m\"\u001b[39m\u001b[38;5;124mNumber of Topics\u001b[39m\u001b[38;5;124m\"\u001b[39m)\n\u001b[1;32m      6\u001b[0m plt\u001b[38;5;241m.\u001b[39mylabel(\u001b[38;5;124m\"\u001b[39m\u001b[38;5;124mCoherence score\u001b[39m\u001b[38;5;124m\"\u001b[39m)\n",
      "File \u001b[0;32m~/miniconda3/envs/bayesian/lib/python3.10/site-packages/matplotlib/pyplot.py:3708\u001b[0m, in \u001b[0;36mplot\u001b[0;34m(scalex, scaley, data, *args, **kwargs)\u001b[0m\n\u001b[1;32m   3700\u001b[0m \u001b[38;5;129m@_copy_docstring_and_deprecators\u001b[39m(Axes\u001b[38;5;241m.\u001b[39mplot)\n\u001b[1;32m   3701\u001b[0m \u001b[38;5;28;01mdef\u001b[39;00m \u001b[38;5;21mplot\u001b[39m(\n\u001b[1;32m   3702\u001b[0m     \u001b[38;5;241m*\u001b[39margs: \u001b[38;5;28mfloat\u001b[39m \u001b[38;5;241m|\u001b[39m ArrayLike \u001b[38;5;241m|\u001b[39m \u001b[38;5;28mstr\u001b[39m,\n\u001b[0;32m   (...)\u001b[0m\n\u001b[1;32m   3706\u001b[0m     \u001b[38;5;241m*\u001b[39m\u001b[38;5;241m*\u001b[39mkwargs,\n\u001b[1;32m   3707\u001b[0m ) \u001b[38;5;241m-\u001b[39m\u001b[38;5;241m>\u001b[39m \u001b[38;5;28mlist\u001b[39m[Line2D]:\n\u001b[0;32m-> 3708\u001b[0m     \u001b[38;5;28;01mreturn\u001b[39;00m \u001b[43mgca\u001b[49m\u001b[43m(\u001b[49m\u001b[43m)\u001b[49m\u001b[38;5;241;43m.\u001b[39;49m\u001b[43mplot\u001b[49m\u001b[43m(\u001b[49m\n\u001b[1;32m   3709\u001b[0m \u001b[43m        \u001b[49m\u001b[38;5;241;43m*\u001b[39;49m\u001b[43margs\u001b[49m\u001b[43m,\u001b[49m\n\u001b[1;32m   3710\u001b[0m \u001b[43m        \u001b[49m\u001b[43mscalex\u001b[49m\u001b[38;5;241;43m=\u001b[39;49m\u001b[43mscalex\u001b[49m\u001b[43m,\u001b[49m\n\u001b[1;32m   3711\u001b[0m \u001b[43m        \u001b[49m\u001b[43mscaley\u001b[49m\u001b[38;5;241;43m=\u001b[39;49m\u001b[43mscaley\u001b[49m\u001b[43m,\u001b[49m\n\u001b[1;32m   3712\u001b[0m \u001b[43m        \u001b[49m\u001b[38;5;241;43m*\u001b[39;49m\u001b[38;5;241;43m*\u001b[39;49m\u001b[43m(\u001b[49m\u001b[43m{\u001b[49m\u001b[38;5;124;43m\"\u001b[39;49m\u001b[38;5;124;43mdata\u001b[39;49m\u001b[38;5;124;43m\"\u001b[39;49m\u001b[43m:\u001b[49m\u001b[43m \u001b[49m\u001b[43mdata\u001b[49m\u001b[43m}\u001b[49m\u001b[43m \u001b[49m\u001b[38;5;28;43;01mif\u001b[39;49;00m\u001b[43m \u001b[49m\u001b[43mdata\u001b[49m\u001b[43m \u001b[49m\u001b[38;5;129;43;01mis\u001b[39;49;00m\u001b[43m \u001b[49m\u001b[38;5;129;43;01mnot\u001b[39;49;00m\u001b[43m \u001b[49m\u001b[38;5;28;43;01mNone\u001b[39;49;00m\u001b[43m \u001b[49m\u001b[38;5;28;43;01melse\u001b[39;49;00m\u001b[43m \u001b[49m\u001b[43m{\u001b[49m\u001b[43m}\u001b[49m\u001b[43m)\u001b[49m\u001b[43m,\u001b[49m\n\u001b[1;32m   3713\u001b[0m \u001b[43m        \u001b[49m\u001b[38;5;241;43m*\u001b[39;49m\u001b[38;5;241;43m*\u001b[39;49m\u001b[43mkwargs\u001b[49m\u001b[43m,\u001b[49m\n\u001b[1;32m   3714\u001b[0m \u001b[43m    \u001b[49m\u001b[43m)\u001b[49m\n",
      "File \u001b[0;32m~/miniconda3/envs/bayesian/lib/python3.10/site-packages/matplotlib/axes/_axes.py:1779\u001b[0m, in \u001b[0;36mAxes.plot\u001b[0;34m(self, scalex, scaley, data, *args, **kwargs)\u001b[0m\n\u001b[1;32m   1536\u001b[0m \u001b[38;5;250m\u001b[39m\u001b[38;5;124;03m\"\"\"\u001b[39;00m\n\u001b[1;32m   1537\u001b[0m \u001b[38;5;124;03mPlot y versus x as lines and/or markers.\u001b[39;00m\n\u001b[1;32m   1538\u001b[0m \n\u001b[0;32m   (...)\u001b[0m\n\u001b[1;32m   1776\u001b[0m \u001b[38;5;124;03m(``'green'``) or hex strings (``'#008000'``).\u001b[39;00m\n\u001b[1;32m   1777\u001b[0m \u001b[38;5;124;03m\"\"\"\u001b[39;00m\n\u001b[1;32m   1778\u001b[0m kwargs \u001b[38;5;241m=\u001b[39m cbook\u001b[38;5;241m.\u001b[39mnormalize_kwargs(kwargs, mlines\u001b[38;5;241m.\u001b[39mLine2D)\n\u001b[0;32m-> 1779\u001b[0m lines \u001b[38;5;241m=\u001b[39m [\u001b[38;5;241m*\u001b[39m\u001b[38;5;28mself\u001b[39m\u001b[38;5;241m.\u001b[39m_get_lines(\u001b[38;5;28mself\u001b[39m, \u001b[38;5;241m*\u001b[39margs, data\u001b[38;5;241m=\u001b[39mdata, \u001b[38;5;241m*\u001b[39m\u001b[38;5;241m*\u001b[39mkwargs)]\n\u001b[1;32m   1780\u001b[0m \u001b[38;5;28;01mfor\u001b[39;00m line \u001b[38;5;129;01min\u001b[39;00m lines:\n\u001b[1;32m   1781\u001b[0m     \u001b[38;5;28mself\u001b[39m\u001b[38;5;241m.\u001b[39madd_line(line)\n",
      "File \u001b[0;32m~/miniconda3/envs/bayesian/lib/python3.10/site-packages/matplotlib/axes/_base.py:296\u001b[0m, in \u001b[0;36m_process_plot_var_args.__call__\u001b[0;34m(self, axes, data, *args, **kwargs)\u001b[0m\n\u001b[1;32m    294\u001b[0m     this \u001b[38;5;241m+\u001b[39m\u001b[38;5;241m=\u001b[39m args[\u001b[38;5;241m0\u001b[39m],\n\u001b[1;32m    295\u001b[0m     args \u001b[38;5;241m=\u001b[39m args[\u001b[38;5;241m1\u001b[39m:]\n\u001b[0;32m--> 296\u001b[0m \u001b[38;5;28;01myield from\u001b[39;00m \u001b[38;5;28;43mself\u001b[39;49m\u001b[38;5;241;43m.\u001b[39;49m\u001b[43m_plot_args\u001b[49m\u001b[43m(\u001b[49m\n\u001b[1;32m    297\u001b[0m \u001b[43m    \u001b[49m\u001b[43maxes\u001b[49m\u001b[43m,\u001b[49m\u001b[43m \u001b[49m\u001b[43mthis\u001b[49m\u001b[43m,\u001b[49m\u001b[43m \u001b[49m\u001b[43mkwargs\u001b[49m\u001b[43m,\u001b[49m\u001b[43m \u001b[49m\u001b[43mambiguous_fmt_datakey\u001b[49m\u001b[38;5;241;43m=\u001b[39;49m\u001b[43mambiguous_fmt_datakey\u001b[49m\u001b[43m)\u001b[49m\n",
      "File \u001b[0;32m~/miniconda3/envs/bayesian/lib/python3.10/site-packages/matplotlib/axes/_base.py:486\u001b[0m, in \u001b[0;36m_process_plot_var_args._plot_args\u001b[0;34m(self, axes, tup, kwargs, return_kwargs, ambiguous_fmt_datakey)\u001b[0m\n\u001b[1;32m    483\u001b[0m     axes\u001b[38;5;241m.\u001b[39myaxis\u001b[38;5;241m.\u001b[39mupdate_units(y)\n\u001b[1;32m    485\u001b[0m \u001b[38;5;28;01mif\u001b[39;00m x\u001b[38;5;241m.\u001b[39mshape[\u001b[38;5;241m0\u001b[39m] \u001b[38;5;241m!=\u001b[39m y\u001b[38;5;241m.\u001b[39mshape[\u001b[38;5;241m0\u001b[39m]:\n\u001b[0;32m--> 486\u001b[0m     \u001b[38;5;28;01mraise\u001b[39;00m \u001b[38;5;167;01mValueError\u001b[39;00m(\u001b[38;5;124mf\u001b[39m\u001b[38;5;124m\"\u001b[39m\u001b[38;5;124mx and y must have same first dimension, but \u001b[39m\u001b[38;5;124m\"\u001b[39m\n\u001b[1;32m    487\u001b[0m                      \u001b[38;5;124mf\u001b[39m\u001b[38;5;124m\"\u001b[39m\u001b[38;5;124mhave shapes \u001b[39m\u001b[38;5;132;01m{\u001b[39;00mx\u001b[38;5;241m.\u001b[39mshape\u001b[38;5;132;01m}\u001b[39;00m\u001b[38;5;124m and \u001b[39m\u001b[38;5;132;01m{\u001b[39;00my\u001b[38;5;241m.\u001b[39mshape\u001b[38;5;132;01m}\u001b[39;00m\u001b[38;5;124m\"\u001b[39m)\n\u001b[1;32m    488\u001b[0m \u001b[38;5;28;01mif\u001b[39;00m x\u001b[38;5;241m.\u001b[39mndim \u001b[38;5;241m>\u001b[39m \u001b[38;5;241m2\u001b[39m \u001b[38;5;129;01mor\u001b[39;00m y\u001b[38;5;241m.\u001b[39mndim \u001b[38;5;241m>\u001b[39m \u001b[38;5;241m2\u001b[39m:\n\u001b[1;32m    489\u001b[0m     \u001b[38;5;28;01mraise\u001b[39;00m \u001b[38;5;167;01mValueError\u001b[39;00m(\u001b[38;5;124mf\u001b[39m\u001b[38;5;124m\"\u001b[39m\u001b[38;5;124mx and y can be no greater than 2D, but have \u001b[39m\u001b[38;5;124m\"\u001b[39m\n\u001b[1;32m    490\u001b[0m                      \u001b[38;5;124mf\u001b[39m\u001b[38;5;124m\"\u001b[39m\u001b[38;5;124mshapes \u001b[39m\u001b[38;5;132;01m{\u001b[39;00mx\u001b[38;5;241m.\u001b[39mshape\u001b[38;5;132;01m}\u001b[39;00m\u001b[38;5;124m and \u001b[39m\u001b[38;5;132;01m{\u001b[39;00my\u001b[38;5;241m.\u001b[39mshape\u001b[38;5;132;01m}\u001b[39;00m\u001b[38;5;124m\"\u001b[39m)\n",
      "\u001b[0;31mValueError\u001b[0m: x and y must have same first dimension, but have shapes (9,) and (1,)"
     ]
    },
    {
     "data": {
      "image/png": "[encoded data removed]",
      "text/plain": [
       "<Figure size 1000x600 with 1 Axes>"
      ]
     },
     "metadata": {},
     "output_type": "display_data"
    }
   ],
   "source": [
    "topics = lda_model.show_topics(formatted=False)\n",
    "counter = Counter(common_dictionary)\n",
    "\n",
    "out = []\n",
    "for i, topic in topics:\n",
    "    for word, weight in topic:\n",
    "        out.append([word, i , weight, counter[word]])\n",
    "\n",
    "df = pd.DataFrame(out, columns=['word', 'topic_id', 'importance', 'word_count'])        \n",
    "\n",
    "# change the code below to be in another format here.\n",
    "\n",
    "# Plot Word Count and Weights of Topic Keywords\n",
    "fig, axes = plt.subplots(3, 3, figsize=(16,10), sharey=True, dpi=160)\n",
    "cols = [color for name, color in mcolors.TABLEAU_COLORS.items()]\n",
    "for i, ax in enumerate(axes.flatten()):\n",
    "    ax.bar(x='word', height=\"word_count\", data=df.loc[df.topic_id==i, :], color=cols[i], width=0.5, alpha=0.3, label='Word Count')\n",
    "    ax_twin = ax.twinx()\n",
    "    ax_twin.bar(x='word', height=\"importance\", data=df.loc[df.topic_id==i, :], color=cols[i], width=0.2, label='Weights')\n",
    "    ax.set_ylabel('Word Count', color=cols[i])\n",
    "    ax_twin.set_ylim(0, 0.030); ax.set_ylim(0, 3500)\n",
    "    ax.set_title('Topic: ' + str(i), color=cols[i], fontsize=16)\n",
    "    ax.tick_params(axis='y', left=False)\n",
    "    ax.set_xticklabels(df.loc[df.topic_id==i, 'word'], rotation=30, horizontalalignment= 'right')\n",
    "    ax.legend(loc='upper left'); ax_twin.legend(loc='upper right')\n",
    "\n",
    "fig.tight_layout(w_pad=2)    \n",
    "fig.suptitle('Word Count and Importance of Topic Keywords', fontsize=22, y=1.05)    \n",
    "plt.show()"
   ]
  },
  {
   "cell_type": "markdown",
   "metadata": {},
   "source": [
    "# Visualise everything by topic importance"
   ]
  },
  {
   "cell_type": "code",
   "execution_count": null,
   "metadata": {},
   "outputs": [],
   "source": [
    "import gensim\n",
    "\n",
    "# get gensim representation of document topic matrix\n",
    "doc_topic_matrix = [lda_model.get_document_topics(bow) for bow in common_corpus]\n",
    "\n",
    "# convert to document-topic matrix\n",
    "matrix = gensim.matutils.corpus2dense(doc_topic_matrix, num_terms=lda_model.num_topics)\n",
    "\n",
    "# get dominant topic for each document\n",
    "dominant_topic = np.argmax(matrix, axis=0)\n",
    "\n",
    "# t-SNE\n",
    "tsne_model = TSNE(n_components=2, perplexity=50, learning_rate=100, n_iter=2000, random_state=0)\n",
    "tsne_values = tsne_model.fit_transform(matrix.T)\n",
    "\n",
    "x = tsne_values[:, 0]\n",
    "y = tsne_values[:, 1]\n",
    "plt.scatter(x, y)\n",
    "plt.xlabel('t-SNE Dimension 1')\n",
    "plt.ylabel('t-SNE Dimension 2')\n",
    "plt.title('t-SNE visualization of LDA document-topic distribution')"
   ]
  },
  {
   "cell_type": "markdown",
   "metadata": {},
   "source": [
    "We next look at the best topics probability distribution of topics"
   ]
  },
  {
   "cell_type": "code",
   "execution_count": null,
   "metadata": {},
   "outputs": [],
   "source": [
    "doc_topic_matrix = [lda_model.get_document_topics(bow) for bow in common_corpus]\n",
    "\n",
    "# convert to document-topic matrix\n",
    "matrix = gensim.matutils.corpus2dense(doc_topic_matrix, num_terms=lda_model.num_topics)\n",
    "\n",
    "# get dominant topic for each document\n",
    "dominant_topic = np.argmax(matrix, axis=0)\n",
    "\n",
    "# t-SNE\n",
    "tsne_model = TSNE(n_components=2, perplexity=50, learning_rate=100, n_iter=2000, random_state=0)\n",
    "tsne_values = tsne_model.fit_transform(matrix.T)\n",
    "\n",
    "colors = plt.cm.tab10(np.linspace(0, 1, 9))\n",
    "\n",
    "plt.figure(figsize=(12, 6))\n",
    "for i, color in zip(range(lda_model.num_topics), colors):\n",
    "    indices = dominant_topic == i\n",
    "    plt.scatter(tsne_values[indices, 0], tsne_values[indices, 1], c=color, label=f'Topic {i}')\n",
    "\n",
    "plt.xlabel('t-SNE Dimension 1')\n",
    "plt.ylabel('t-SNE Dimension 2')\n",
    "plt.title('t-SNE visualization of LDA document-topic distribution')\n",
    "plt.legend(loc='best')"
   ]
  },
  {
   "cell_type": "markdown",
   "metadata": {},
   "source": [
    "Next we run the LDA for the best number of topics\n",
    "\n",
    "Folllow the topic distribution code below, to get the information you need!!\n",
    "\n",
    "https://chatgpt.com/share/beece0f2-5aae-43e2-b28e-7d9e64014dc3"
   ]
  },
  {
   "cell_type": "markdown",
   "metadata": {},
   "source": []
  },
  {
   "cell_type": "markdown",
   "metadata": {},
   "source": [
    "### Ideas for graphs\n",
    "1. Doing text preprocessing as required\n",
    "1. Topic modelling (dynamic over time)\n",
    "    - with LSA and LDA structure\n",
    "1. Sentiment analysis (with Finbert)"
   ]
  },
  {
   "cell_type": "code",
   "execution_count": null,
   "metadata": {},
   "outputs": [],
   "source": []
  }
 ],
 "metadata": {
  "kernelspec": {
   "display_name": "Python 3 (ipykernel)",
   "language": "python",
   "name": "python3"
  },
  "language_info": {
   "codemirror_mode": {
    "name": "ipython",
    "version": 3
   },
   "file_extension": ".py",
   "mimetype": "text/x-python",
   "name": "python",
   "nbconvert_exporter": "python",
   "pygments_lexer": "ipython3",
   "version": "3.10.14"
  }
 },
 "nbformat": 4,
 "nbformat_minor": 4
}
