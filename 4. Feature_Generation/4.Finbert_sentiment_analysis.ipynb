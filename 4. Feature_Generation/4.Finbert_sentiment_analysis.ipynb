{
 "cells": [
  {
   "cell_type": "markdown",
   "metadata": {},
   "source": [
    "# Finbert Sentiment analysis\n",
    "\n",
    "Add Finbert sentiment analysis here since model is trained on topic modelling\n",
    "\n",
    "Use Google Colab for this here."
   ]
  },
  {
   "cell_type": "markdown",
   "metadata": {},
   "source": []
  }
 ],
 "metadata": {
  "language_info": {
   "name": "python"
  }
 },
 "nbformat": 4,
 "nbformat_minor": 2
}
