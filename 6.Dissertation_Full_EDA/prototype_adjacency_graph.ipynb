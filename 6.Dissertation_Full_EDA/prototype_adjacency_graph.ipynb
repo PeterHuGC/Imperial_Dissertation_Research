{
 "cells": [
  {
   "cell_type": "markdown",
   "metadata": {},
   "source": [
    "## Build Adjacency matrix graph with the approach \n",
    "\n",
    "\n",
    "Try a simple iterative non-vectorised approach. D. didn't know what was happening, but need to do iterative anyway - so just try efficient iterative approach here and see how efficient it is\n",
    "\n",
    "Otherwise extend it further with another approach.\n",
    "\n",
    "Seems from edge list is the best approach, but you just did it wrong with the wrong prompting!!\n",
    "\n",
    "Shouldn't be so sparse - as they've shown it!!"
   ]
  },
  {
   "cell_type": "markdown",
   "metadata": {},
   "source": [
    "#### Note important\n",
    "\n",
    "It is important to re-query the data tables to get the full years worth of data.\n",
    "\n",
    "\n",
    "#### Approaches\n",
    "\n",
    "1. First try to experiment with the existing data, and then extend it to more years.\n",
    "\n",
    "Current graph data is correct, just need to use a different workflow, \n",
    "\n",
    "Incorrect way was done with not recognising the data is in `edge list format`, now you do!"
   ]
  },
  {
   "cell_type": "markdown",
   "metadata": {},
   "source": [
    "# 2. Review how to create graph adjacency matrices statistics for each year\n",
    "\n",
    "1. Create the graphs by year\n",
    "1. Create graph statistics by Director IDs \n",
    "1. Link Company IDs based on adjacency matrices\n",
    "1. Take averages by year company id, and then link everything back"
   ]
  },
  {
   "cell_type": "code",
   "execution_count": 2,
   "metadata": {},
   "outputs": [],
   "source": [
    "import pandas as pd\n",
    "import numpy as np\n",
    "from itertools import combinations\n",
    "import networkx as nx\n",
    "pd.set_option('display.max_columns', None)"
   ]
  },
  {
   "cell_type": "code",
   "execution_count": 3,
   "metadata": {},
   "outputs": [
    {
     "data": {
      "text/html": [
       "<div>\n",
       "<style scoped>\n",
       "    .dataframe tbody tr th:only-of-type {\n",
       "        vertical-align: middle;\n",
       "    }\n",
       "\n",
       "    .dataframe tbody tr th {\n",
       "        vertical-align: top;\n",
       "    }\n",
       "\n",
       "    .dataframe thead th {\n",
       "        text-align: right;\n",
       "    }\n",
       "</style>\n",
       "<table border=\"1\" class=\"dataframe\">\n",
       "  <thead>\n",
       "    <tr style=\"text-align: right;\">\n",
       "      <th></th>\n",
       "      <th>associationtype</th>\n",
       "      <th>boardname</th>\n",
       "      <th>companyname</th>\n",
       "      <th>directorname</th>\n",
       "      <th>overlapyearstart</th>\n",
       "      <th>overlapyearend</th>\n",
       "      <th>role</th>\n",
       "      <th>associatedrole</th>\n",
       "      <th>conncompanyorgtype</th>\n",
       "      <th>boardid</th>\n",
       "      <th>companyid</th>\n",
       "      <th>directorid</th>\n",
       "      <th>roletitle</th>\n",
       "      <th>roleboardposition</th>\n",
       "      <th>roleedflag</th>\n",
       "      <th>overlapyearstart_int</th>\n",
       "      <th>overlapyearend_int</th>\n",
       "      <th>startcompanydatestartrole</th>\n",
       "      <th>startcompanydateendrole</th>\n",
       "      <th>conncompanydatestartrole</th>\n",
       "      <th>conncompanydateendrole</th>\n",
       "      <th>orgtype</th>\n",
       "    </tr>\n",
       "  </thead>\n",
       "  <tbody>\n",
       "    <tr>\n",
       "      <th>0</th>\n",
       "      <td>Unlisted Org</td>\n",
       "      <td>VERICEL CORP (Aastrom Biosciences Inc prior to...</td>\n",
       "      <td>Gladius Pharmaceuticals Inc</td>\n",
       "      <td>Doctor Steve Gilman</td>\n",
       "      <td>2020</td>\n",
       "      <td>Curr</td>\n",
       "      <td>Independent Director (Brd) (SD)</td>\n",
       "      <td>Scientific Advisor (Non-Brd)</td>\n",
       "      <td>Private</td>\n",
       "      <td>401.0</td>\n",
       "      <td>2734400.0</td>\n",
       "      <td>601453.0</td>\n",
       "      <td>Independent Director</td>\n",
       "      <td>Brd</td>\n",
       "      <td>SD</td>\n",
       "      <td>2020</td>\n",
       "      <td>NaN</td>\n",
       "      <td>2015-01-06</td>\n",
       "      <td>NaN</td>\n",
       "      <td>NaN</td>\n",
       "      <td>NaN</td>\n",
       "      <td>Quoted</td>\n",
       "    </tr>\n",
       "    <tr>\n",
       "      <th>1</th>\n",
       "      <td>Unlisted Org</td>\n",
       "      <td>VERICEL CORP (Aastrom Biosciences Inc prior to...</td>\n",
       "      <td>ContraFect Corp</td>\n",
       "      <td>Doctor Steve Gilman</td>\n",
       "      <td>2023</td>\n",
       "      <td>Curr</td>\n",
       "      <td>Independent Director (Brd) (SD)</td>\n",
       "      <td>Independent Vice Chairman (Brd) (SD)</td>\n",
       "      <td>Private</td>\n",
       "      <td>401.0</td>\n",
       "      <td>3700766.0</td>\n",
       "      <td>601453.0</td>\n",
       "      <td>Independent Director</td>\n",
       "      <td>Brd</td>\n",
       "      <td>SD</td>\n",
       "      <td>2023</td>\n",
       "      <td>NaN</td>\n",
       "      <td>2015-01-06</td>\n",
       "      <td>NaN</td>\n",
       "      <td>2023-11-09</td>\n",
       "      <td>NaN</td>\n",
       "      <td>Quoted</td>\n",
       "    </tr>\n",
       "    <tr>\n",
       "      <th>2</th>\n",
       "      <td>Other</td>\n",
       "      <td>VERICEL CORP (Aastrom Biosciences Inc prior to...</td>\n",
       "      <td>Northeastern University</td>\n",
       "      <td>Doctor Steve Gilman</td>\n",
       "      <td>2016</td>\n",
       "      <td>Curr</td>\n",
       "      <td>Independent Director (Brd) (SD)</td>\n",
       "      <td>Advisory Board Member</td>\n",
       "      <td>Universities</td>\n",
       "      <td>401.0</td>\n",
       "      <td>61472.0</td>\n",
       "      <td>601453.0</td>\n",
       "      <td>Independent Director</td>\n",
       "      <td>Brd</td>\n",
       "      <td>SD</td>\n",
       "      <td>2016</td>\n",
       "      <td>NaN</td>\n",
       "      <td>2015-01-06</td>\n",
       "      <td>NaN</td>\n",
       "      <td>NaN</td>\n",
       "      <td>NaN</td>\n",
       "      <td>Quoted</td>\n",
       "    </tr>\n",
       "    <tr>\n",
       "      <th>3</th>\n",
       "      <td>Listed Org</td>\n",
       "      <td>VERICEL CORP (Aastrom Biosciences Inc prior to...</td>\n",
       "      <td>AKEBIA THERAPEUTICS INC</td>\n",
       "      <td>Doctor Steve Gilman</td>\n",
       "      <td>2018</td>\n",
       "      <td>Curr</td>\n",
       "      <td>Independent Director (Brd) (SD)</td>\n",
       "      <td>Independent Director (Brd) (SD)</td>\n",
       "      <td>Quoted</td>\n",
       "      <td>401.0</td>\n",
       "      <td>2055831.0</td>\n",
       "      <td>601453.0</td>\n",
       "      <td>Independent Director</td>\n",
       "      <td>Brd</td>\n",
       "      <td>SD</td>\n",
       "      <td>2018</td>\n",
       "      <td>NaN</td>\n",
       "      <td>2015-01-06</td>\n",
       "      <td>NaN</td>\n",
       "      <td>2018-12-12</td>\n",
       "      <td>NaN</td>\n",
       "      <td>Quoted</td>\n",
       "    </tr>\n",
       "    <tr>\n",
       "      <th>4</th>\n",
       "      <td>Listed Org</td>\n",
       "      <td>VERICEL CORP (Aastrom Biosciences Inc prior to...</td>\n",
       "      <td>SCYNEXIS INC</td>\n",
       "      <td>Doctor Steve Gilman</td>\n",
       "      <td>2015</td>\n",
       "      <td>Curr</td>\n",
       "      <td>Independent Director (Brd) (SD)</td>\n",
       "      <td>Independent Director (Brd) (SD)</td>\n",
       "      <td>Quoted</td>\n",
       "      <td>401.0</td>\n",
       "      <td>2065362.0</td>\n",
       "      <td>601453.0</td>\n",
       "      <td>Independent Director</td>\n",
       "      <td>Brd</td>\n",
       "      <td>SD</td>\n",
       "      <td>2015</td>\n",
       "      <td>NaN</td>\n",
       "      <td>2015-01-06</td>\n",
       "      <td>NaN</td>\n",
       "      <td>2015-02-25</td>\n",
       "      <td>NaN</td>\n",
       "      <td>Quoted</td>\n",
       "    </tr>\n",
       "  </tbody>\n",
       "</table>\n",
       "</div>"
      ],
      "text/plain": [
       "  associationtype                                          boardname  \\\n",
       "0    Unlisted Org  VERICEL CORP (Aastrom Biosciences Inc prior to...   \n",
       "1    Unlisted Org  VERICEL CORP (Aastrom Biosciences Inc prior to...   \n",
       "2           Other  VERICEL CORP (Aastrom Biosciences Inc prior to...   \n",
       "3      Listed Org  VERICEL CORP (Aastrom Biosciences Inc prior to...   \n",
       "4      Listed Org  VERICEL CORP (Aastrom Biosciences Inc prior to...   \n",
       "\n",
       "                   companyname         directorname  overlapyearstart  \\\n",
       "0  Gladius Pharmaceuticals Inc  Doctor Steve Gilman              2020   \n",
       "1              ContraFect Corp  Doctor Steve Gilman              2023   \n",
       "2      Northeastern University  Doctor Steve Gilman              2016   \n",
       "3      AKEBIA THERAPEUTICS INC  Doctor Steve Gilman              2018   \n",
       "4                 SCYNEXIS INC  Doctor Steve Gilman              2015   \n",
       "\n",
       "  overlapyearend                             role  \\\n",
       "0           Curr  Independent Director (Brd) (SD)   \n",
       "1           Curr  Independent Director (Brd) (SD)   \n",
       "2           Curr  Independent Director (Brd) (SD)   \n",
       "3           Curr  Independent Director (Brd) (SD)   \n",
       "4           Curr  Independent Director (Brd) (SD)   \n",
       "\n",
       "                         associatedrole conncompanyorgtype  boardid  \\\n",
       "0          Scientific Advisor (Non-Brd)            Private    401.0   \n",
       "1  Independent Vice Chairman (Brd) (SD)            Private    401.0   \n",
       "2                 Advisory Board Member       Universities    401.0   \n",
       "3       Independent Director (Brd) (SD)             Quoted    401.0   \n",
       "4       Independent Director (Brd) (SD)             Quoted    401.0   \n",
       "\n",
       "   companyid  directorid             roletitle roleboardposition roleedflag  \\\n",
       "0  2734400.0    601453.0  Independent Director               Brd         SD   \n",
       "1  3700766.0    601453.0  Independent Director               Brd         SD   \n",
       "2    61472.0    601453.0  Independent Director               Brd         SD   \n",
       "3  2055831.0    601453.0  Independent Director               Brd         SD   \n",
       "4  2065362.0    601453.0  Independent Director               Brd         SD   \n",
       "\n",
       "   overlapyearstart_int  overlapyearend_int startcompanydatestartrole  \\\n",
       "0                  2020                 NaN                2015-01-06   \n",
       "1                  2023                 NaN                2015-01-06   \n",
       "2                  2016                 NaN                2015-01-06   \n",
       "3                  2018                 NaN                2015-01-06   \n",
       "4                  2015                 NaN                2015-01-06   \n",
       "\n",
       "  startcompanydateendrole conncompanydatestartrole conncompanydateendrole  \\\n",
       "0                     NaN                      NaN                    NaN   \n",
       "1                     NaN               2023-11-09                    NaN   \n",
       "2                     NaN                      NaN                    NaN   \n",
       "3                     NaN               2018-12-12                    NaN   \n",
       "4                     NaN               2015-02-25                    NaN   \n",
       "\n",
       "  orgtype  \n",
       "0  Quoted  \n",
       "1  Quoted  \n",
       "2  Quoted  \n",
       "3  Quoted  \n",
       "4  Quoted  "
      ]
     },
     "execution_count": 3,
     "metadata": {},
     "output_type": "execute_result"
    }
   ],
   "source": [
    "file_path = \"../2.Initial_Graph_Building/boardex_us_companies_full_data_2022_2024.csv\"\n",
    "\n",
    "boardex_data = pd.read_csv(file_path, index_col = 0)\n",
    "\n",
    "# Display the first few rows of the data to understand its structure\n",
    "boardex_data.head()"
   ]
  },
  {
   "cell_type": "code",
   "execution_count": 4,
   "metadata": {},
   "outputs": [
    {
     "data": {
      "text/plain": [
       "Index(['associationtype', 'boardname', 'companyname', 'directorname',\n",
       "       'overlapyearstart', 'overlapyearend', 'role', 'associatedrole',\n",
       "       'conncompanyorgtype', 'boardid', 'companyid', 'directorid', 'roletitle',\n",
       "       'roleboardposition', 'roleedflag', 'overlapyearstart_int',\n",
       "       'overlapyearend_int', 'startcompanydatestartrole',\n",
       "       'startcompanydateendrole', 'conncompanydatestartrole',\n",
       "       'conncompanydateendrole', 'orgtype'],\n",
       "      dtype='object')"
      ]
     },
     "execution_count": 4,
     "metadata": {},
     "output_type": "execute_result"
    }
   ],
   "source": [
    "boardex_data.columns"
   ]
  },
  {
   "cell_type": "markdown",
   "metadata": {},
   "source": [
    "Watch out for the column details here that's it. Ignore the other metrics later."
   ]
  },
  {
   "cell_type": "code",
   "execution_count": 5,
   "metadata": {},
   "outputs": [],
   "source": [
    "filtered_data_df = boardex_data[['boardid', 'companyid', 'directorid', 'overlapyearstart', 'overlapyearend' ]].drop_duplicates()"
   ]
  },
  {
   "cell_type": "code",
   "execution_count": 6,
   "metadata": {},
   "outputs": [],
   "source": [
    "filtered_data_df['overlapyearend'].replace(\"Curr\", 2024)\n",
    "filtered_data_df['overlapyearend'] = pd.to_numeric(filtered_data_df['overlapyearend'], errors='coerce')"
   ]
  },
  {
   "cell_type": "markdown",
   "metadata": {},
   "source": [
    "### Build Board graph (company interlock)\n",
    "\n",
    "Here we build the graph with networkx and visualise the results\n",
    "\n",
    "If this works we can then create an edge list for "
   ]
  },
  {
   "cell_type": "code",
   "execution_count": 9,
   "metadata": {},
   "outputs": [],
   "source": [
    "simplified_boardex_df = filtered_data_df.copy()"
   ]
  },
  {
   "cell_type": "code",
   "execution_count": 10,
   "metadata": {},
   "outputs": [],
   "source": [
    "year = 2022"
   ]
  },
  {
   "cell_type": "code",
   "execution_count": 11,
   "metadata": {},
   "outputs": [],
   "source": [
    "graph_simplified_df = simplified_boardex_df[ (year >= simplified_boardex_df['overlapyearstart']) & (year <= simplified_boardex_df['overlapyearend'])]\n"
   ]
  },
  {
   "cell_type": "code",
   "execution_count": 12,
   "metadata": {},
   "outputs": [
    {
     "data": {
      "text/html": [
       "<div>\n",
       "<style scoped>\n",
       "    .dataframe tbody tr th:only-of-type {\n",
       "        vertical-align: middle;\n",
       "    }\n",
       "\n",
       "    .dataframe tbody tr th {\n",
       "        vertical-align: top;\n",
       "    }\n",
       "\n",
       "    .dataframe thead th {\n",
       "        text-align: right;\n",
       "    }\n",
       "</style>\n",
       "<table border=\"1\" class=\"dataframe\">\n",
       "  <thead>\n",
       "    <tr style=\"text-align: right;\">\n",
       "      <th></th>\n",
       "      <th>boardid</th>\n",
       "      <th>companyid</th>\n",
       "      <th>directorid</th>\n",
       "      <th>overlapyearstart</th>\n",
       "      <th>overlapyearend</th>\n",
       "    </tr>\n",
       "  </thead>\n",
       "  <tbody>\n",
       "    <tr>\n",
       "      <th>5</th>\n",
       "      <td>401.0</td>\n",
       "      <td>2129204.0</td>\n",
       "      <td>601453.0</td>\n",
       "      <td>2019</td>\n",
       "      <td>2022.0</td>\n",
       "    </tr>\n",
       "    <tr>\n",
       "      <th>8</th>\n",
       "      <td>401.0</td>\n",
       "      <td>2129204.0</td>\n",
       "      <td>601453.0</td>\n",
       "      <td>2022</td>\n",
       "      <td>2023.0</td>\n",
       "    </tr>\n",
       "    <tr>\n",
       "      <th>18</th>\n",
       "      <td>401.0</td>\n",
       "      <td>2605301.0</td>\n",
       "      <td>347826.0</td>\n",
       "      <td>2019</td>\n",
       "      <td>2022.0</td>\n",
       "    </tr>\n",
       "    <tr>\n",
       "      <th>33</th>\n",
       "      <td>401.0</td>\n",
       "      <td>3347021.0</td>\n",
       "      <td>323007.0</td>\n",
       "      <td>2022</td>\n",
       "      <td>2023.0</td>\n",
       "    </tr>\n",
       "    <tr>\n",
       "      <th>34</th>\n",
       "      <td>401.0</td>\n",
       "      <td>2995500.0</td>\n",
       "      <td>323007.0</td>\n",
       "      <td>2019</td>\n",
       "      <td>2022.0</td>\n",
       "    </tr>\n",
       "  </tbody>\n",
       "</table>\n",
       "</div>"
      ],
      "text/plain": [
       "    boardid  companyid  directorid  overlapyearstart  overlapyearend\n",
       "5     401.0  2129204.0    601453.0              2019          2022.0\n",
       "8     401.0  2129204.0    601453.0              2022          2023.0\n",
       "18    401.0  2605301.0    347826.0              2019          2022.0\n",
       "33    401.0  3347021.0    323007.0              2022          2023.0\n",
       "34    401.0  2995500.0    323007.0              2019          2022.0"
      ]
     },
     "execution_count": 12,
     "metadata": {},
     "output_type": "execute_result"
    }
   ],
   "source": [
    "graph_simplified_df.head()"
   ]
  },
  {
   "cell_type": "code",
   "execution_count": null,
   "metadata": {},
   "outputs": [],
   "source": [
    "# this really fast - so more graphs it should still be fine - try it after!!"
   ]
  },
  {
   "cell_type": "code",
   "execution_count": 13,
   "metadata": {},
   "outputs": [],
   "source": [
    "G = nx.from_pandas_edgelist(graph_simplified_df, 'boardid', 'companyid', edge_attr='directorid')\n",
    "\n",
    "# Generate Adjacency Matrix\n",
    "adj_matrix = nx.adjacency_matrix(G)"
   ]
  },
  {
   "cell_type": "code",
   "execution_count": 15,
   "metadata": {},
   "outputs": [
    {
     "data": {
      "text/plain": [
       "(12711, 12711)"
      ]
     },
     "execution_count": 15,
     "metadata": {},
     "output_type": "execute_result"
    }
   ],
   "source": [
    "adj_matrix.todense().shape"
   ]
  },
  {
   "cell_type": "markdown",
   "metadata": {},
   "source": [
    "Generate graph statistics \n",
    "\n",
    "**N.b. Create other graph statistics afterwards with other models**\n",
    "\n",
    "Also use other more efficient parallelised libraries to try calculating the relevant graph statististics afterwards"
   ]
  },
  {
   "cell_type": "code",
   "execution_count": 36,
   "metadata": {},
   "outputs": [
    {
     "data": {
      "text/plain": [
       "0.0003309176505775275"
      ]
     },
     "execution_count": 36,
     "metadata": {},
     "output_type": "execute_result"
    }
   ],
   "source": [
    "graph_density = nx.density(G) # create as a graph statistic detail\n",
    "\n",
    "graph_density # still quite sparse unfortunately - try to visualise the graph here.\n",
    "\n",
    "# few connections per node but doesn't mean that the graph itself is sparse."
   ]
  },
  {
   "cell_type": "code",
   "execution_count": 21,
   "metadata": {},
   "outputs": [],
   "source": [
    "# get the dictionary of director ids with relevant statistics\n",
    "clustering_dict = nx.clustering(G)\n",
    "degree_centrality_dict = nx.degree_centrality(G)"
   ]
  },
  {
   "cell_type": "code",
   "execution_count": null,
   "metadata": {},
   "outputs": [],
   "source": [
    "# betweenness_centrality_dict = nx.betweenness_centrality(G)\n",
    "\n",
    "# df1 = pd.DataFrame.from_dict(clustering_dict, orient='index', columns=['local_clustering_coef'])\n",
    "# df2 = pd.DataFrame.from_dict(degree_centrality_dict, orient='index', columns=['degree_centrality'])\n",
    "# df3 = pd.DataFrame.from_dict(betweenness_centrality_dict, orient='index', columns=['betweenness_centrality'])"
   ]
  },
  {
   "cell_type": "markdown",
   "metadata": {},
   "source": [
    "### Visualise the graphs\n",
    "\n",
    "Visualise the output to see what the problem is, now that you know this isn't the major problem here.\n",
    "\n",
    "\n",
    "Now seems to be more connected - so this could be useful for analysis.\n"
   ]
  },
  {
   "cell_type": "code",
   "execution_count": 35,
   "metadata": {},
   "outputs": [
    {
     "data": {
      "image/png": "[encoded data removed]",
      "text/plain": [
       "<Figure size 640x480 with 1 Axes>"
      ]
     },
     "metadata": {},
     "output_type": "display_data"
    }
   ],
   "source": [
    "# take about 2 - 3 minutes to create the graph to draw but it is fine\n",
    "\n",
    "# G = nx.from_pandas_adjacency(adj_matrix) # use adjacency matrix for use later for a function\n",
    "\n",
    "# layout takes more time - check details for all these - and check it - ask for other workflow\n",
    "\n",
    "pos = nx.spring_layout(G\n",
    "                       \n",
    "                       #, k=0.1 # edit k to zoom in\n",
    "                       )\n",
    "\n",
    "# pos = nx.circular_layout(G)\n",
    "\n",
    "nx.draw(G, pos, #ax=ax, \n",
    "        with_labels=False, \n",
    "    node_color='skyblue', edge_color='gray', node_size=1, font_size=10)"
   ]
  },
  {
   "cell_type": "code",
   "execution_count": 24,
   "metadata": {},
   "outputs": [],
   "source": [
    "# from pyvis.network import Network"
   ]
  },
  {
   "cell_type": "code",
   "execution_count": 31,
   "metadata": {},
   "outputs": [],
   "source": [
    "# # Create a PyVis network\n",
    "# net = Network(notebook=False)\n",
    "\n",
    "# G = nx.relabel_nodes(G, {i: str(i) for i in G.nodes()})\n",
    "\n",
    "# net.from_nx(G)\n",
    "\n",
    "# # Customize the appearance of the network\n",
    "# net.repulsion(node_distance=100, central_gravity=0.3, spring_length=100, spring_strength=0.05, damping=0.09)\n",
    "\n",
    "# # Generate the network graph HTML file\n",
    "# output_file = \"network.html\"\n",
    "# net.save_graph(output_file) # doesn't take too long - so can just use this to run the workflow needed!!"
   ]
  },
  {
   "cell_type": "markdown",
   "metadata": {},
   "source": [
    "#### Checking\n",
    "\n",
    "Check the details on graph statistics. It doesn't seem like it matches up.\n",
    "\n",
    "Graph statistics, with nodes - even if every connection, does that mean it is well connected but sparse - look at the interpretation here!!"
   ]
  },
  {
   "cell_type": "markdown",
   "metadata": {},
   "source": [
    "### Next steps\n",
    "\n",
    "Depending on the requirements, you can also just build the graph statistics for directors\n",
    "\n",
    "You can build the graph for directors - like what you've seen before, to build statistics at the director level, and then research "
   ]
  },
  {
   "cell_type": "markdown",
   "metadata": {},
   "source": [
    "Build the graph data below for board director interlocks with director interlock graph as well.\n",
    "\n",
    "Although the data would be more difficult to interpret there, however the graph network structure should be easy to create!!"
   ]
  },
  {
   "cell_type": "markdown",
   "metadata": {},
   "source": []
  },
  {
   "cell_type": "markdown",
   "metadata": {},
   "source": [
    "Then on the weekend try the graph libraries to build the graph statistics.\n",
    "\n",
    "And try seed word and feature generation.\n",
    "\n",
    "Then review the different regression models, and model selection techniques.\n",
    "\n",
    "Then review the measures of quality after"
   ]
  },
  {
   "cell_type": "markdown",
   "metadata": {},
   "source": [
    "Also look at more general industries - maybe can deal with graph statistics better!!"
   ]
  },
  {
   "cell_type": "markdown",
   "metadata": {},
   "source": [
    "#### Important\n",
    "\n",
    "The visualisation isn't enough - need to check the graph statistics also!!"
   ]
  },
  {
   "cell_type": "markdown",
   "metadata": {},
   "source": [
    "https://stackoverflow.com/questions/21978487/improving-python-networkx-graph-layout"
   ]
  },
  {
   "cell_type": "markdown",
   "metadata": {},
   "source": [
    "**Easy to run and explore the data statistics for graph outside of the visualisation**"
   ]
  },
  {
   "cell_type": "markdown",
   "metadata": {},
   "source": [
    "Spend some more time and keep up the pace in the next few days! Relatively easy and now know what you're doing based on Nick's feedback.\n",
    "\n",
    "And code for doing so is fine.\n",
    "\n",
    "Ran for one year, can do it for multiple years with networkx even though iterative, same for the grpah statistics, once you convert it into an adjacency matrix!!"
   ]
  },
  {
   "cell_type": "markdown",
   "metadata": {},
   "source": []
  }
 ],
 "metadata": {
  "kernelspec": {
   "display_name": "bayesian",
   "language": "python",
   "name": "python3"
  },
  "language_info": {
   "codemirror_mode": {
    "name": "ipython",
    "version": 3
   },
   "file_extension": ".py",
   "mimetype": "text/x-python",
   "name": "python",
   "nbconvert_exporter": "python",
   "pygments_lexer": "ipython3",
   "version": "3.10.14"
  }
 },
 "nbformat": 4,
 "nbformat_minor": 2
}
