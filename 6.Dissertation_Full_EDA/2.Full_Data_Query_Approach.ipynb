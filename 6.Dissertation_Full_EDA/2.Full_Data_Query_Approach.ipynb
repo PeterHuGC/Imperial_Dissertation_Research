{
 "cells": [
  {
   "cell_type": "markdown",
   "metadata": {},
   "source": [
    "### Full data query approach\n",
    "\n",
    "Here we will look at getting the full data queries for the boardex and the patent data, and link everything together.\n",
    "\n",
    "Do this tomorrow, for approach.\n",
    "\n",
    "Create the SQL query."
   ]
  },
  {
   "cell_type": "markdown",
   "metadata": {},
   "source": []
  }
 ],
 "metadata": {
  "language_info": {
   "name": "python"
  }
 },
 "nbformat": 4,
 "nbformat_minor": 2
}
