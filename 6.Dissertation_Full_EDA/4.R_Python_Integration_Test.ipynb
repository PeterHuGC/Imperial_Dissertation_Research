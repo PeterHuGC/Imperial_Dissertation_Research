{
 "cells": [
  {
   "cell_type": "markdown",
   "metadata": {},
   "source": [
    "# Check R Python integration\n",
    "\n",
    "Check everything from the tutorial\n",
    "\n",
    "https://willfondrie.com/2022/01/how-to-use-r-packages-in-python/\n",
    "\n",
    "\n",
    "https://chatgpt.com/share/a8dd9d13-eb43-4744-b384-4bea929c51b0\n",
    "\n",
    "Later try to link up seeded LDA with Python here, leave the option open\n"
   ]
  },
  {
   "cell_type": "code",
   "execution_count": 1,
   "metadata": {},
   "outputs": [
    {
     "name": "stdout",
     "output_type": "stream",
     "text": [
      "Collecting rpy2\n",
      "  Downloading rpy2-3.5.16.tar.gz (220 kB)\n",
      "     ---------------------------------------- 0.0/220.0 kB ? eta -:--:--\n",
      "     --- --------------------------------- 20.5/220.0 kB 640.0 kB/s eta 0:00:01\n",
      "     -------------------------------------  215.0/220.0 kB 2.6 MB/s eta 0:00:01\n",
      "     -------------------------------------- 220.0/220.0 kB 2.7 MB/s eta 0:00:00\n",
      "  Installing build dependencies: started\n",
      "  Installing build dependencies: finished with status 'done'\n",
      "  Getting requirements to build wheel: started\n",
      "  Getting requirements to build wheel: finished with status 'done'\n",
      "  Preparing metadata (pyproject.toml): started\n",
      "  Preparing metadata (pyproject.toml): finished with status 'done'\n",
      "Requirement already satisfied: cffi>=1.15.1 in c:\\users\\bingf\\miniconda3\\envs\\bayesian\\lib\\site-packages (from rpy2) (1.16.0)\n",
      "Requirement already satisfied: jinja2 in c:\\users\\bingf\\miniconda3\\envs\\bayesian\\lib\\site-packages (from rpy2) (3.1.4)\n",
      "Collecting tzlocal (from rpy2)\n",
      "  Downloading tzlocal-5.2-py3-none-any.whl.metadata (7.8 kB)\n",
      "Requirement already satisfied: packaging in c:\\users\\bingf\\miniconda3\\envs\\bayesian\\lib\\site-packages (from rpy2) (23.2)\n",
      "Requirement already satisfied: pycparser in c:\\users\\bingf\\miniconda3\\envs\\bayesian\\lib\\site-packages (from cffi>=1.15.1->rpy2) (2.22)\n",
      "Requirement already satisfied: MarkupSafe>=2.0 in c:\\users\\bingf\\miniconda3\\envs\\bayesian\\lib\\site-packages (from jinja2->rpy2) (2.1.5)\n",
      "Requirement already satisfied: tzdata in c:\\users\\bingf\\miniconda3\\envs\\bayesian\\lib\\site-packages (from tzlocal->rpy2) (2024.1)\n",
      "Downloading tzlocal-5.2-py3-none-any.whl (17 kB)\n",
      "Building wheels for collected packages: rpy2\n",
      "  Building wheel for rpy2 (pyproject.toml): started\n",
      "  Building wheel for rpy2 (pyproject.toml): finished with status 'done'\n",
      "  Created wheel for rpy2: filename=rpy2-3.5.16-py3-none-any.whl size=220719 sha256=bd138875d29b74a7318f7f38053c2a9d11860d76399e25ea4ab6888809647c53\n",
      "  Stored in directory: c:\\users\\bingf\\appdata\\local\\pip\\cache\\wheels\\da\\60\\76\\3bc67cbf19cb7dd4806c73262e7588dfada92f80fcf3558fc5\n",
      "Successfully built rpy2\n",
      "Installing collected packages: tzlocal, rpy2\n",
      "Successfully installed rpy2-3.5.16 tzlocal-5.2\n"
     ]
    }
   ],
   "source": [
    "!pip install rpy2"
   ]
  },
  {
   "cell_type": "code",
   "execution_count": 3,
   "metadata": {},
   "outputs": [],
   "source": [
    "import os"
   ]
  },
  {
   "cell_type": "code",
   "execution_count": 4,
   "metadata": {},
   "outputs": [],
   "source": [
    "os.environ[\"R_HOME\"] = r\"C:\\Program Files\\R\\R-4.4.1\""
   ]
  },
  {
   "cell_type": "code",
   "execution_count": 5,
   "metadata": {},
   "outputs": [
    {
     "data": {
      "text/plain": [
       "'C:\\\\Program Files\\\\R\\\\R-4.4.1'"
      ]
     },
     "execution_count": 5,
     "metadata": {},
     "output_type": "execute_result"
    }
   ],
   "source": [
    "os.environ[\"R_HOME\"] "
   ]
  },
  {
   "cell_type": "code",
   "execution_count": null,
   "metadata": {},
   "outputs": [
    {
     "ename": "",
     "evalue": "",
     "output_type": "error",
     "traceback": [
      "\u001b[1;31mThe Kernel crashed while executing code in the current cell or a previous cell. \n",
      "\u001b[1;31mPlease review the code in the cell(s) to identify a possible cause of the failure. \n",
      "\u001b[1;31mClick <a href='https://aka.ms/vscodeJupyterKernelCrash'>here</a> for more info. \n",
      "\u001b[1;31mView Jupyter <a href='command:jupyter.viewOutput'>log</a> for further details."
     ]
    }
   ],
   "source": [
    "import rpy2.robjects as robjects # doesn't work - has to use R instead - do and try that later!!"
   ]
  },
  {
   "cell_type": "code",
   "execution_count": null,
   "metadata": {},
   "outputs": [],
   "source": [
    "# Define the R script and load it into Python\n",
    "r_script = \"\"\"\n",
    "summary_r <- function(data_vector) {\n",
    "  summary(data_vector)\n",
    "}\n",
    "\"\"\"\n",
    "\n",
    "# Load the R script\n",
    "robjects.r(r_script)\n",
    "\n",
    "# Create a Python list and convert it to an R vector\n",
    "data_vector = robjects.FloatVector([1, 2, 3, 4, 5, 6, 7, 8, 9, 10])\n",
    "\n",
    "# Call the R function\n",
    "summary_result = robjects.r['summary_r'](data_vector)\n",
    "\n",
    "# Print the result\n",
    "print(summary_result)"
   ]
  },
  {
   "cell_type": "code",
   "execution_count": null,
   "metadata": {},
   "outputs": [],
   "source": []
  }
 ],
 "metadata": {
  "kernelspec": {
   "display_name": "bayesian",
   "language": "python",
   "name": "python3"
  },
  "language_info": {
   "codemirror_mode": {
    "name": "ipython",
    "version": 3
   },
   "file_extension": ".py",
   "mimetype": "text/x-python",
   "name": "python",
   "nbconvert_exporter": "python",
   "pygments_lexer": "ipython3",
   "version": "3.11.9"
  }
 },
 "nbformat": 4,
 "nbformat_minor": 2
}
