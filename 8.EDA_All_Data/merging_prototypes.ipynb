{
 "cells": [
  {
   "cell_type": "code",
   "execution_count": 1,
   "metadata": {},
   "outputs": [],
   "source": [
    "import pandas"
   ]
  },
  {
   "cell_type": "markdown",
   "metadata": {},
   "source": [
    "# Merge everything just use Melt from pandas to do this and it works!!\n",
    "\n",
    "The graph approach was wrong, but this part should work properly!!"
   ]
  },
  {
   "cell_type": "code",
   "execution_count": 3,
   "metadata": {},
   "outputs": [
    {
     "name": "stdout",
     "output_type": "stream",
     "text": [
      "  directorid company_type companyid occupation\n",
      "0       Dir1   companyidA     Comp1   Engineer\n",
      "1       Dir2   companyidA     Comp2     Doctor\n",
      "2       Dir3   companyidA     Comp3     Artist\n",
      "3       Dir1   companyidB     Comp4   Engineer\n",
      "4       Dir2   companyidB     Comp5     Doctor\n",
      "5       Dir3   companyidB     Comp6     Artist\n"
     ]
    }
   ],
   "source": [
    "import pandas as pd\n",
    "\n",
    "# Sample data for edge list\n",
    "data_edge = {\n",
    "    'companyidA': ['Comp1', 'Comp2', 'Comp3'],\n",
    "    'directorid': ['Dir1', 'Dir2', 'Dir3'],\n",
    "    'companyidB': ['Comp4', 'Comp5', 'Comp6']\n",
    "}\n",
    "\n",
    "# Sample data for director occupation\n",
    "data_director = {\n",
    "    'directorid': ['Dir1', 'Dir2', 'Dir3'],\n",
    "    'occupation': ['Engineer', 'Doctor', 'Artist']\n",
    "}\n",
    "\n",
    "# Convert dictionaries to DataFrames\n",
    "df_edge = pd.DataFrame(data_edge)\n",
    "df_director = pd.DataFrame(data_director)\n",
    "\n",
    "# Transform the edge list to have one company per row\n",
    "df_long = pd.melt(df_edge, id_vars=['directorid'], value_vars=['companyidA', 'companyidB'],\n",
    "                  var_name='company_type', value_name='companyid')\n",
    "\n",
    "# # Drop the 'company_type' as it's no longer needed\n",
    "# df_long = df_long.drop('company_type', axis=1) # melt it together, and get original id melt together\n",
    "\n",
    "# Merge the transformed edge list with the occupation table\n",
    "df_merged = pd.merge(df_long, df_director, on='directorid', how='left')\n",
    "\n",
    "# Display the final DataFrame\n",
    "print(df_merged)"
   ]
  },
  {
   "cell_type": "code",
   "execution_count": null,
   "metadata": {},
   "outputs": [],
   "source": []
  }
 ],
 "metadata": {
  "kernelspec": {
   "display_name": "bayesian",
   "language": "python",
   "name": "python3"
  },
  "language_info": {
   "codemirror_mode": {
    "name": "ipython",
    "version": 3
   },
   "file_extension": ".py",
   "mimetype": "text/x-python",
   "name": "python",
   "nbconvert_exporter": "python",
   "pygments_lexer": "ipython3",
   "version": "3.10.14"
  }
 },
 "nbformat": 4,
 "nbformat_minor": 2
}
