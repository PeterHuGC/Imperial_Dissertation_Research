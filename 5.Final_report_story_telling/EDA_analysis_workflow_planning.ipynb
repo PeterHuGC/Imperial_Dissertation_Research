{
 "cells": [
  {
   "cell_type": "markdown",
   "metadata": {},
   "source": [
    "# Board-Interlocking And Corporate Performance on Company Performance\n",
    "\n",
    "Name: Bingfeng Hu\n",
    "CID: 01137798 \n",
    "Date: 14/06/24\n"
   ]
  },
  {
   "cell_type": "markdown",
   "metadata": {},
   "source": [
    "Data - start with the basic data structure see if that is fine for the whole story, and edit the structure here.\n",
    "\n",
    "Text resources use - write up workflow and graph building workflow, and grpah building here\n",
    "\n"
   ]
  },
  {
   "cell_type": "markdown",
   "metadata": {},
   "source": [
    "### 1. Introduction and Context\n",
    "\n",
    "Describe meaningful structure and what to do here \n",
    "\n",
    "Which datasets to work on\n",
    "\n",
    "What the data structure is meaningful or not\n",
    "\n",
    "Describe using a naive model. \n",
    "\n",
    "\n",
    "\n",
    "Given the potential large nature of graph, for companies and directors, \n",
    "looking at sub-industry - CIK details, doing sub sampling and looking at the two years"
   ]
  },
  {
   "cell_type": "markdown",
   "metadata": {},
   "source": [
    "### 2. Graph structure analysis for graph interlocking\n",
    "\n",
    "Graph structure here - add:\n",
    "1. Graph interlocking graphs\n",
    "2. Graph communitiies over time\n",
    "3. SVD not meaningful - maybe too sparse and some other way is needed"
   ]
  },
  {
   "cell_type": "code",
   "execution_count": null,
   "metadata": {},
   "outputs": [],
   "source": []
  },
  {
   "cell_type": "markdown",
   "metadata": {},
   "source": [
    "### 3. Analysis of Text - Annual Report for Decisioning\n",
    "\n",
    "Average sentiment over time, and look at the graphs over time\n",
    "\n",
    "#### Add topic details\n",
    "\n",
    "Relevant topic changes over time, changes in relevant topics, most prominent topics - count these over time, and changes, over the few years, review give the topic structure\n",
    "\n",
    "Add relevant functions for this, and do the relevant write up."
   ]
  },
  {
   "cell_type": "code",
   "execution_count": null,
   "metadata": {},
   "outputs": [],
   "source": []
  },
  {
   "cell_type": "markdown",
   "metadata": {},
   "source": [
    "### 4. Regression model of Governance structures and Decisioning on Company Performance\n",
    "\n",
    "**Maybe filter out the most relevant variables above before passing to this section here**\n",
    "\n",
    "Describe here the naive model.\n",
    "\n",
    "Do some basic EDA structure (correlation effects of relevant effects)\n",
    "\n",
    "And analyse the structure here, and statistical output for the workflow here.\n",
    "\n",
    "Convert the Stata commands here and that's it!! Put it in the same notebook!!"
   ]
  },
  {
   "cell_type": "code",
   "execution_count": null,
   "metadata": {},
   "outputs": [],
   "source": []
  },
  {
   "cell_type": "markdown",
   "metadata": {},
   "source": [
    "### 5. Conclusion and Next steps\n",
    "\n",
    "Use README section and discuss Bayesian workflow here. Seen here features are meaningful particular on sentiment, therefore use regression to do topic modelling here.\n",
    "\n",
    "1. Meaningful graph cluster - from EDA structure\n",
    "2. Topic modelling from the regression\n",
    "3. Add more data to enrich the details, given the limited interpretation, - describe features missing and add this here.\n",
    "    - Add more years as needed for the workflow\n",
    "\n",
    "Bayesian enrichment of topics - given the structure we have."
   ]
  },
  {
   "cell_type": "code",
   "execution_count": null,
   "metadata": {},
   "outputs": [],
   "source": []
  }
 ],
 "metadata": {
  "kernelspec": {
   "display_name": "Python 3 (ipykernel)",
   "language": "python",
   "name": "python3"
  },
  "language_info": {
   "codemirror_mode": {
    "name": "ipython",
    "version": 3
   },
   "file_extension": ".py",
   "mimetype": "text/x-python",
   "name": "python",
   "nbconvert_exporter": "python",
   "pygments_lexer": "ipython3",
   "version": "3.10.14"
  }
 },
 "nbformat": 4,
 "nbformat_minor": 4
}
